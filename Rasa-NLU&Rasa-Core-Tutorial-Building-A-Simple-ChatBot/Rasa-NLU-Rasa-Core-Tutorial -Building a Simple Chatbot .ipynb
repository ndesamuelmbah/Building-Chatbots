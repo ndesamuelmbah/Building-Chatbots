{
 "cells": [
  {
   "cell_type": "markdown",
   "metadata": {
    "colab_type": "text",
    "id": "aZM1MslSF6d9"
   },
   "source": [
    "\n",
    "## Rasa NLU & Rasa Core Tutorial - Building Chatbots\n",
    "\n"
   ]
  },
  {
   "cell_type": "code",
   "execution_count": null,
   "metadata": {
    "colab": {
     "autoexec": {
      "startup": false,
      "wait_interval": 0
     }
    },
    "colab_type": "code",
    "id": "n97cvW2RJIfU"
   },
   "outputs": [],
   "source": [
    "# How to upload your dataset to colab\n",
    "from google.colab import files\n",
    "uploaded = files.upload()"
   ]
  },
  {
   "cell_type": "code",
   "execution_count": null,
   "metadata": {
    "colab": {
     "autoexec": {
      "startup": false,
      "wait_interval": 0
     }
    },
    "colab_type": "code",
    "id": "sVenGNpSKCwu"
   },
   "outputs": [],
   "source": [
    "from IPython.display import Image"
   ]
  },
  {
   "cell_type": "code",
   "execution_count": 2,
   "metadata": {
    "colab": {
     "autoexec": {
      "startup": false,
      "wait_interval": 0
     },
     "base_uri": "https://localhost:8080/",
     "height": 299
    },
    "colab_type": "code",
    "executionInfo": {
     "elapsed": 930,
     "status": "ok",
     "timestamp": 1532503131896,
     "user": {
      "displayName": "Jesiel Charis",
      "photoUrl": "https://lh3.googleusercontent.com/a/default-user=s128",
      "userId": "117700027378170168700"
     },
     "user_tz": -180
    },
    "id": "vq19XnSaKU5_",
    "outputId": "5c8bbcb4-7bc7-4f78-d41d-a93d8af3c714"
   },
   "outputs": [
    {
     "data": {
      "image/png": "iVBORw0KGgoAAAANSUhEUgAAA1wAAAEaCAYAAAAFe1acAAAV7ElEQVR42uzdT1obV77w8XOq9JJ3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\nXwAAAP//dTkg8A1O/m8AAAAASUVORK5CYII=\n",
      "text/plain": [
       "<IPython.core.display.Image object>"
      ]
     },
     "execution_count": 2,
     "metadata": {
      "tags": []
     },
     "output_type": "execute_result"
    }
   ],
   "source": [
    "Image(\"rasa_logo.png\")"
   ]
  },
  {
   "cell_type": "markdown",
   "metadata": {
    "colab_type": "text",
    "id": "MK7Wgv_BF6eD"
   },
   "source": [
    "### Rasa NLU & Rasa Core Tutorials\n",
    "+ Tabula rasa - blank slate\n",
    "+ Natural Language Understanding tool for understanding what is being said in short pieces of text\n",
    "+ \n",
    "#### Main Idea\n",
    "+ Intent Classification ===> rasa_nlu\n",
    "+ Entity Extraction ===> rasa_nlu\n",
    "+ Dialogue and Actions ===> rasa_core\n",
    "\n",
    "#### Installing\n",
    "- pip install tzlocal==1.5.1\n",
    "- pip install rasa_core\n",
    "\n",
    "#### Adding Backend for NLU\n",
    "- pip install rasa_nlu[spacy]\n",
    "\n",
    "+ install a language model for the language you need\n",
    "- python -m spacy download en_core_web_md\n",
    "- python -m spacy link en_core_web_md en\n",
    "\n",
    "\n",
    "#### Adding Graphiz for Visualization\n",
    "apt-get -qq install -y graphviz libgraphviz-dev pkg-config && pip install pygraphviz\n",
    "\n",
    "#### Easy way Run on Google Colab \n",
    "- Python 3.6 and up"
   ]
  },
  {
   "cell_type": "markdown",
   "metadata": {
    "colab_type": "text",
    "id": "bw1CLUzVF6eH"
   },
   "source": [
    "#### CLI Format\n",
    "###### Training and Building the Model\n",
    "    - python -m rasa_nlu.train -c nlu_config.yml --data nludataset.md -o models --fixed_model_name nlu --project current --verbose\n",
    "###### Training the dialogue model\n",
    "    - python -m rasa_core.train -d my_domain.yml -s my_stories.md -o models/current/dialogue\n",
    "###### Runing our bots\n",
    "    - python -m rasa_core.run --enable_api -d models/current/dialogue -u models/current/nlu --cors "*" --debug
    "
   ]
  },
  {
   "cell_type": "markdown",
   "metadata": {
    "colab_type": "raw",
    "id": "rWIFeyUuF6eK"
   },
   "source": [
    "# Outline\n",
    "Installation\n",
    "Writing Stories\n",
    "Defining a Domain\n",
    "Training your Dialogue Model\n",
    "Starting up the bot\n",
    "Talking to the bot (no NLU)\n",
    "Part 2: Add natural language understanding\n",
    "Installing NLU\n",
    "Language Understanding\n",
    "Train the Rasa NLU Model\n",
    "Starting up the bot (with NLU)\n",
    "Talking to the Bot (with NLU)\n",
    "Pro Tip: Visualising the Training Data"
   ]
  },
  {
   "cell_type": "markdown",
   "metadata": {
    "colab_type": "text",
    "id": "ElG01XSPF6eN"
   },
   "source": [
    "#### Practice on the Colab\n",
    "https://colab.research.google.com/github/RasaHQ/rasa_core/blob/master/getting_started.ipynb"
   ]
  },
  {
   "cell_type": "code",
   "execution_count": 3,
   "metadata": {
    "colab": {
     "autoexec": {
      "startup": false,
      "wait_interval": 0
     },
     "base_uri": "https://localhost:8080/",
     "height": 1499
    },
    "colab_type": "code",
    "executionInfo": {
     "elapsed": 3937,
     "status": "ok",
     "timestamp": 1532503149438,
     "user": {
      "displayName": "Jesiel Charis",
      "photoUrl": "https://lh3.googleusercontent.com/a/default-user=s128",
      "userId": "117700027378170168700"
     },
     "user_tz": -180
    },
    "id": "Gzxg_W-bF6eR",
    "outputId": "24e9e259-f024-4273-a87d-c6dca4f5dcb5"
   },
   "outputs": [
    {
     "name": "stdout",
     "output_type": "stream",
     "text": [
      "Requirement already satisfied: rasa_core in /usr/local/lib/python3.6/dist-packages (0.10.2)\n",
      "Requirement already satisfied: requests~=2.15 in /usr/local/lib/python3.6/dist-packages (from rasa_core) (2.18.4)\n",
      "Requirement already satisfied: tensorflow<1.9,>=1.7 in /usr/local/lib/python3.6/dist-packages (from rasa_core) (1.8.0)\n",
      "Requirement already satisfied: future~=0.16 in /usr/local/lib/python3.6/dist-packages (from rasa_core) (0.16.0)\n",
      "Requirement already satisfied: numpy~=1.13 in /usr/local/lib/python3.6/dist-packages (from rasa_core) (1.14.5)\n",
      "Requirement already satisfied: flask-cors~=3.0 in /usr/local/lib/python3.6/dist-packages (from rasa_core) (3.0.6)\n",
      "Requirement already satisfied: h5py~=2.0 in /usr/local/lib/python3.6/dist-packages (from rasa_core) (2.8.0)\n",
      "Requirement already satisfied: python-telegram-bot~=10.0 in /usr/local/lib/python3.6/dist-packages (from rasa_core) (10.1.0)\n",
      "Requirement already satisfied: fbmessenger~=5.0 in /usr/local/lib/python3.6/dist-packages (from rasa_core) (5.3.0)\n",
      "Requirement already satisfied: keras~=2.0 in /usr/local/lib/python3.6/dist-packages (from rasa_core) (2.1.6)\n",
      "Requirement already satisfied: six~=1.0 in /usr/local/lib/python3.6/dist-packages (from rasa_core) (1.11.0)\n",
      "Requirement already satisfied: rasa-nlu~=0.12.0 in /usr/local/lib/python3.6/dist-packages (from rasa_core) (0.12.3)\n",
      "Requirement already satisfied: fakeredis~=0.10.0 in /usr/local/lib/python3.6/dist-packages (from rasa_core) (0.10.3)\n",
      "Requirement already satisfied: flask~=1.0 in /usr/local/lib/python3.6/dist-packages (from rasa_core) (1.0.2)\n",
      "Requirement already satisfied: ConfigArgParse~=0.13.0 in /usr/local/lib/python3.6/dist-packages (from rasa_core) (0.13.0)\n",
      "Requirement already satisfied: tqdm~=4.0 in /usr/local/lib/python3.6/dist-packages (from rasa_core) (4.23.4)\n",
      "Requirement already satisfied: colorhash~=1.0 in /usr/local/lib/python3.6/dist-packages (from rasa_core) (1.0.2)\n",
      "Requirement already satisfied: jsonpickle~=0.9.0 in /usr/local/lib/python3.6/dist-packages (from rasa_core) (0.9.6)\n",
      "Requirement already satisfied: pykwalify<=1.6.0 in /usr/local/lib/python3.6/dist-packages (from rasa_core) (1.6.0)\n",
      "Requirement already satisfied: apscheduler~=3.0 in /usr/local/lib/python3.6/dist-packages (from rasa_core) (3.5.1)\n",
      "Requirement already satisfied: scikit-learn~=0.19.0 in /usr/local/lib/python3.6/dist-packages (from rasa_core) (0.19.2)\n",
      "Requirement already satisfied: redis~=2.0 in /usr/local/lib/python3.6/dist-packages (from rasa_core) (2.10.6)\n",
      "Requirement already satisfied: ruamel.yaml~=0.15.0 in /usr/local/lib/python3.6/dist-packages (from rasa_core) (0.15.44)\n",
      "Requirement already satisfied: coloredlogs~=10.0 in /usr/local/lib/python3.6/dist-packages (from rasa_core) (10.0)\n",
      "Requirement already satisfied: twilio~=6.0 in /usr/local/lib/python3.6/dist-packages (from rasa_core) (6.15.1)\n",
      "Requirement already satisfied: mattermostwrapper~=2.0 in /usr/local/lib/python3.6/dist-packages (from rasa_core) (2.1)\n",
      "Requirement already satisfied: networkx~=2.0 in /usr/local/lib/python3.6/dist-packages (from rasa_core) (2.1)\n",
      "Requirement already satisfied: typing~=3.0 in /usr/local/lib/python3.6/dist-packages (from rasa_core) (3.6.4)\n",
      "Requirement already satisfied: slackclient~=1.0 in /usr/local/lib/python3.6/dist-packages (from rasa_core) (1.2.1)\n",
      "Requirement already satisfied: graphviz~=0.8.0 in /usr/local/lib/python3.6/dist-packages (from rasa_core) (0.8.4)\n",
      "Requirement already satisfied: certifi>=2017.4.17 in /usr/local/lib/python3.6/dist-packages (from requests~=2.15->rasa_core) (2018.4.16)\n",
      "Requirement already satisfied: idna<2.7,>=2.5 in /usr/local/lib/python3.6/dist-packages (from requests~=2.15->rasa_core) (2.6)\n",
      "Requirement already satisfied: urllib3<1.23,>=1.21.1 in /usr/local/lib/python3.6/dist-packages (from requests~=2.15->rasa_core) (1.22)\n",
      "Requirement already satisfied: chardet<3.1.0,>=3.0.2 in /usr/local/lib/python3.6/dist-packages (from requests~=2.15->rasa_core) (3.0.4)\n",
      "Requirement already satisfied: tensorboard<1.9.0,>=1.8.0 in /usr/local/lib/python3.6/dist-packages (from tensorflow<1.9,>=1.7->rasa_core) (1.8.0)\n",
      "Requirement already satisfied: gast>=0.2.0 in /usr/local/lib/python3.6/dist-packages (from tensorflow<1.9,>=1.7->rasa_core) (0.2.0)\n",
      "Requirement already satisfied: termcolor>=1.1.0 in /usr/local/lib/python3.6/dist-packages (from tensorflow<1.9,>=1.7->rasa_core) (1.1.0)\n",
      "Requirement already satisfied: astor>=0.6.0 in /usr/local/lib/python3.6/dist-packages (from tensorflow<1.9,>=1.7->rasa_core) (0.7.1)\n",
      "Requirement already satisfied: wheel>=0.26 in /usr/local/lib/python3.6/dist-packages (from tensorflow<1.9,>=1.7->rasa_core) (0.31.1)\n",
      "Requirement already satisfied: grpcio>=1.8.6 in /usr/local/lib/python3.6/dist-packages (from tensorflow<1.9,>=1.7->rasa_core) (1.13.0)\n",
      "Requirement already satisfied: absl-py>=0.1.6 in /usr/local/lib/python3.6/dist-packages (from tensorflow<1.9,>=1.7->rasa_core) (0.2.2)\n",
      "Requirement already satisfied: protobuf>=3.4.0 in /usr/local/lib/python3.6/dist-packages (from tensorflow<1.9,>=1.7->rasa_core) (3.6.0)\n",
      "Requirement already satisfied: scipy>=0.14 in /usr/local/lib/python3.6/dist-packages (from keras~=2.0->rasa_core) (0.19.1)\n",
      "Requirement already satisfied: pyyaml in /usr/local/lib/python3.6/dist-packages (from keras~=2.0->rasa_core) (3.13)\n",
      "Requirement already satisfied: gevent in /usr/local/lib/python3.6/dist-packages (from rasa-nlu~=0.12.0->rasa_core) (1.3.5)\n",
      "Requirement already satisfied: jsonschema in /usr/local/lib/python3.6/dist-packages (from rasa-nlu~=0.12.0->rasa_core) (2.6.0)\n",
      "Requirement already satisfied: matplotlib in /usr/local/lib/python3.6/dist-packages (from rasa-nlu~=0.12.0->rasa_core) (2.1.2)\n",
      "Requirement already satisfied: simplejson in /usr/local/lib/python3.6/dist-packages (from rasa-nlu~=0.12.0->rasa_core) (3.16.0)\n",
      "Requirement already satisfied: klein in /usr/local/lib/python3.6/dist-packages (from rasa-nlu~=0.12.0->rasa_core) (17.10.0)\n",
      "Requirement already satisfied: packaging in /usr/local/lib/python3.6/dist-packages (from rasa-nlu~=0.12.0->rasa_core) (17.1)\n",
      "Requirement already satisfied: boto3 in /usr/local/lib/python3.6/dist-packages (from rasa-nlu~=0.12.0->rasa_core) (1.7.63)\n",
      "Requirement already satisfied: pathlib in /usr/local/lib/python3.6/dist-packages (from rasa-nlu~=0.12.0->rasa_core) (1.0.1)\n",
      "Requirement already satisfied: cloudpickle in /usr/local/lib/python3.6/dist-packages (from rasa-nlu~=0.12.0->rasa_core) (0.5.3)\n",
      "Requirement already satisfied: Jinja2>=2.10 in /usr/local/lib/python3.6/dist-packages (from flask~=1.0->rasa_core) (2.10)\n",
      "Requirement already satisfied: Werkzeug>=0.14 in /usr/local/lib/python3.6/dist-packages (from flask~=1.0->rasa_core) (0.14.1)\n",
      "Requirement already satisfied: click>=5.1 in /usr/local/lib/python3.6/dist-packages (from flask~=1.0->rasa_core) (6.7)\n",
      "Requirement already satisfied: itsdangerous>=0.24 in /usr/local/lib/python3.6/dist-packages (from flask~=1.0->rasa_core) (0.24)\n",
      "Requirement already satisfied: python-dateutil>=2.4.2 in /usr/local/lib/python3.6/dist-packages (from pykwalify<=1.6.0->rasa_core) (2.5.3)\n",
      "Requirement already satisfied: docopt>=0.6.2 in /usr/local/lib/python3.6/dist-packages (from pykwalify<=1.6.0->rasa_core) (0.6.2)\n",
      "Requirement already satisfied: setuptools>=0.7 in /usr/local/lib/python3.6/dist-packages (from apscheduler~=3.0->rasa_core) (39.1.0)\n",
      "Requirement already satisfied: pytz in /usr/local/lib/python3.6/dist-packages (from apscheduler~=3.0->rasa_core) (2018.5)\n",
      "Requirement already satisfied: tzlocal>=1.2 in /usr/local/lib/python3.6/dist-packages (from apscheduler~=3.0->rasa_core) (1.5.1)\n",
      "Requirement already satisfied: humanfriendly>=4.7 in /usr/local/lib/python3.6/dist-packages (from coloredlogs~=10.0->rasa_core) (4.16.1)\n",
      "Requirement already satisfied: pysocks; python_version >= \"3.0\" in /usr/local/lib/python3.6/dist-packages (from twilio~=6.0->rasa_core) (1.6.8)\n",
      "Requirement already satisfied: PyJWT>=1.4.2 in /usr/local/lib/python3.6/dist-packages (from twilio~=6.0->rasa_core) (1.6.4)\n",
      "Requirement already satisfied: decorator>=4.1.0 in /usr/local/lib/python3.6/dist-packages (from networkx~=2.0->rasa_core) (4.3.0)\n",
      "Requirement already satisfied: websocket-client<1.0a0,>=0.35 in /usr/local/lib/python3.6/dist-packages (from slackclient~=1.0->rasa_core) (0.48.0)\n",
      "Requirement already satisfied: html5lib==0.9999999 in /usr/local/lib/python3.6/dist-packages (from tensorboard<1.9.0,>=1.8.0->tensorflow<1.9,>=1.7->rasa_core) (0.9999999)\n",
      "Requirement already satisfied: markdown>=2.6.8 in /usr/local/lib/python3.6/dist-packages (from tensorboard<1.9.0,>=1.8.0->tensorflow<1.9,>=1.7->rasa_core) (2.6.11)\n",
      "Requirement already satisfied: bleach==1.5.0 in /usr/local/lib/python3.6/dist-packages (from tensorboard<1.9.0,>=1.8.0->tensorflow<1.9,>=1.7->rasa_core) (1.5.0)\n",
      "Requirement already satisfied: greenlet>=0.4.13; platform_python_implementation == \"CPython\" in /usr/local/lib/python3.6/dist-packages (from gevent->rasa-nlu~=0.12.0->rasa_core) (0.4.14)\n",
      "Requirement already satisfied: pyparsing!=2.0.4,!=2.1.2,!=2.1.6,>=2.0.1 in /usr/local/lib/python3.6/dist-packages (from matplotlib->rasa-nlu~=0.12.0->rasa_core) (2.2.0)\n",
      "Requirement already satisfied: cycler>=0.10 in /usr/local/lib/python3.6/dist-packages (from matplotlib->rasa-nlu~=0.12.0->rasa_core) (0.10.0)\n",
      "Requirement already satisfied: incremental in /usr/local/lib/python3.6/dist-packages (from klein->rasa-nlu~=0.12.0->rasa_core) (17.5.0)\n",
      "Requirement already satisfied: Twisted>=15.5 in /usr/local/lib/python3.6/dist-packages (from klein->rasa-nlu~=0.12.0->rasa_core) (18.7.0)\n",
      "Requirement already satisfied: s3transfer<0.2.0,>=0.1.10 in /usr/local/lib/python3.6/dist-packages (from boto3->rasa-nlu~=0.12.0->rasa_core) (0.1.13)\n",
      "Requirement already satisfied: jmespath<1.0.0,>=0.7.1 in /usr/local/lib/python3.6/dist-packages (from boto3->rasa-nlu~=0.12.0->rasa_core) (0.9.3)\n",
      "Requirement already satisfied: botocore<1.11.0,>=1.10.63 in /usr/local/lib/python3.6/dist-packages (from boto3->rasa-nlu~=0.12.0->rasa_core) (1.10.63)\n",
      "Requirement already satisfied: MarkupSafe>=0.23 in /usr/local/lib/python3.6/dist-packages (from Jinja2>=2.10->flask~=1.0->rasa_core) (1.0)\n",
      "Requirement already satisfied: PyHamcrest>=1.9.0 in /usr/local/lib/python3.6/dist-packages (from Twisted>=15.5->klein->rasa-nlu~=0.12.0->rasa_core) (1.9.0)\n",
      "Requirement already satisfied: attrs>=17.4.0 in /usr/local/lib/python3.6/dist-packages (from Twisted>=15.5->klein->rasa-nlu~=0.12.0->rasa_core) (18.1.0)\n",
      "Requirement already satisfied: constantly>=15.1 in /usr/local/lib/python3.6/dist-packages (from Twisted>=15.5->klein->rasa-nlu~=0.12.0->rasa_core) (15.1.0)\n",
      "Requirement already satisfied: zope.interface>=4.4.2 in /usr/local/lib/python3.6/dist-packages (from Twisted>=15.5->klein->rasa-nlu~=0.12.0->rasa_core) (4.5.0)\n",
      "Requirement already satisfied: hyperlink>=17.1.1 in /usr/local/lib/python3.6/dist-packages (from Twisted>=15.5->klein->rasa-nlu~=0.12.0->rasa_core) (18.0.0)\n",
      "Requirement already satisfied: Automat>=0.3.0 in /usr/local/lib/python3.6/dist-packages (from Twisted>=15.5->klein->rasa-nlu~=0.12.0->rasa_core) (0.7.0)\n",
      "Requirement already satisfied: docutils>=0.10 in /usr/local/lib/python3.6/dist-packages (from botocore<1.11.0,>=1.10.63->boto3->rasa-nlu~=0.12.0->rasa_core) (0.14)\n"
     ]
    }
   ],
   "source": [
    "# Installation\n",
    "!pip install rasa_core;\n",
    "\n",
    "import logging, io, json, warnings\n",
    "logging.basicConfig(level=\"INFO\")\n",
    "warnings.filterwarnings('ignore')"
   ]
  },
  {
   "cell_type": "markdown",
   "metadata": {
    "colab_type": "text",
    "id": "UcwLUYwkF6ef"
   },
   "source": [
    "#### Writing A Story\n"
   ]
  },
  {
   "cell_type": "markdown",
   "metadata": {
    "colab_type": "raw",
    "id": "OEi_j1WNF6ei"
   },
   "source": [
    "### Story Structure\n",
    "  - starts stories ==> ##\n",
    "  -  intent/entities of the message you are sending ==> *\n",
    "  -  actions that the bot will do or take eg utter_greet,utter_location,API_function \n",
    "      with dash  -"
   ]
  },
  {
   "cell_type": "code",
   "execution_count": 4,
   "metadata": {
    "colab": {
     "autoexec": {
      "startup": false,
      "wait_interval": 0
     },
     "base_uri": "https://localhost:8080/",
     "height": 805
    },
    "colab_type": "code",
    "executionInfo": {
     "elapsed": 1033,
     "status": "ok",
     "timestamp": 1532503207799,
     "user": {
      "displayName": "Jesiel Charis",
      "photoUrl": "https://lh3.googleusercontent.com/a/default-user=s128",
      "userId": "117700027378170168700"
     },
     "user_tz": -180
    },
    "id": "24dLWY-rKzBV",
    "outputId": "f4389a14-e976-4bba-a5cd-2798093acab2"
   },
   "outputs": [
    {
     "data": {
      "image/png": "iVBORw0KGgoAAAANSUhEUgAABVYAAAMACAYAAADPPjzCAAAAAXNSR0IArs4c6QAAAARnQU1BAACx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\n",
      "text/plain": [
       "<IPython.core.display.Image object>"
      ]
     },
     "execution_count": 4,
     "metadata": {
      "tags": []
     },
     "output_type": "execute_result"
    }
   ],
   "source": [
    "Image('sample_chatbot.png')"
   ]
  },
  {
   "cell_type": "code",
   "execution_count": 5,
   "metadata": {
    "colab": {
     "autoexec": {
      "startup": false,
      "wait_interval": 0
     },
     "base_uri": "https://localhost:8080/",
     "height": 34
    },
    "colab_type": "code",
    "executionInfo": {
     "elapsed": 812,
     "status": "ok",
     "timestamp": 1532503254102,
     "user": {
      "displayName": "Jesiel Charis",
      "photoUrl": "https://lh3.googleusercontent.com/a/default-user=s128",
      "userId": "117700027378170168700"
     },
     "user_tz": -180
    },
    "id": "uSablWyQF6e7",
    "outputId": "635d67a9-5a88-46b5-f25e-ef102d75e55c"
   },
   "outputs": [
    {
     "name": "stdout",
     "output_type": "stream",
     "text": [
      "Writing 'stories_md' (str) to file 'my_stories.md'.\n"
     ]
    }
   ],
   "source": [
    "stories_md = \"\"\"\n",
    "## happy path               <!-- name of the story - just for debugging -->\n",
    "* greet              \n",
    "  - utter_greet\n",
    "* mood_great               <!-- user utterance, in format intent[entities] -->\n",
    "  - utter_happy\n",
    "* mood_affirm\n",
    "  - utter_happy\n",
    "* mood_affirm\n",
    "  - utter_goodbye\n",
    "  \n",
    "  \n",
    "## sad path 1               <!-- this is already the start of the next story -->\n",
    "* greet\n",
    "  - utter_greet             <!-- action the bot should execute -->\n",
    "* mood_unhappy\n",
    "  - utter_cheer_up\n",
    "  - utter_did_that_help\n",
    "* mood_affirm\n",
    "  - utter_happy\n",
    "\n",
    "## good purchase path               <!-- name of the story - for making purchase-->\n",
    "* greet              \n",
    "  - utter_greet\n",
    "* mood_great               <!-- user utterance, in format intent[entities] -->\n",
    "  - utter_happy\n",
    "* mood_affirm\n",
    "  - utter_happy\n",
    "* purchase                  <! -- user intention to purchase things --->\n",
    "  - utter_purchase  \n",
    "* purchase_affirm           <!-- user utterance, in format intent[entities] -->\n",
    "  - utter_purchase\n",
    "* purchase_affirm\n",
    "  - utter_price\n",
    "* mood_affirm\n",
    "  - utter_goodbye\n",
    "  \n",
    "## good purchase path2\n",
    "* greet              \n",
    "  - utter_greet\n",
    "* inform                    <!-- user utterance, in format intent[entities] -->\n",
    "  - utter_ask_item\n",
    "  - utter_show_item\n",
    "  - utter_did_that_help\n",
    "* goodbye\n",
    "    - utter_goodbye\n",
    "\n",
    "## no purchase path               <!-- name of the story - for making purchase-->\n",
    "* greet              \n",
    "  - utter_greet\n",
    "* mood_great               <!-- user utterance, in format intent[entities] -->\n",
    "  - utter_happy\n",
    "* mood_affirm\n",
    "  - utter_happy\n",
    "* purchase                  <! -- user intention to purchase things --->\n",
    "  - utter_purchase  \n",
    "* purchase_deny           <!-- user utterance, in format intent[entities] -->\n",
    "  - utter_purchase\n",
    "* purchase_deny\n",
    "  - utter_ask_item\n",
    "* mood_affirm\n",
    "  - utter_goodbye\n",
    "  \n",
    "  \n",
    "## get weather of location\n",
    "* greet\n",
    "  - utter_greet\n",
    "* mood_great               <!-- user utterance, in format intent[entities] -->\n",
    "  - utter_happy\n",
    "* inform\n",
    "  - utter_ask_location\n",
    "* inform{\"location\": \"Paris\"}\n",
    "  - utter_ask_location\n",
    "* goodbye\n",
    "    - utter_goodbye\n",
    "    - export\n",
    "    \n",
    "## get weather of location\n",
    "* greet\n",
    "    - utter_greet\n",
    "* inform[location=London]\n",
    "    - utter_ask_location\n",
    "* goodbye\n",
    "    - utter_goodbye\n",
    "    - export\n",
    "  \n",
    "  \n",
    "## strange user\n",
    "* mood_affirm\n",
    "  - utter_happy\n",
    "* mood_affirm\n",
    "  - utter_unclear\n",
    "\n",
    "## say goodbye\n",
    "* goodbye\n",
    "  - utter_goodbye\n",
    "\n",
    "\"\"\"\n",
    "\n",
    "%store stories_md > my_stories.md"
   ]
  },
  {
   "cell_type": "markdown",
   "metadata": {
    "colab_type": "text",
    "id": "iwHO536tF6fF"
   },
   "source": [
    "### Defining the Domain Universe/Environment\n",
    "+ Where(universe or environment) your bot lives\n",
    " - - intents : what you expect users to say,their intentions\n",
    " - - action : what your bot is supposed to do(list them eg utter_greet,custom actions)\n",
    " - - template :\n",
    "\n",
    "+ Stories"
   ]
  },
  {
   "cell_type": "markdown",
   "metadata": {
    "colab_type": "text",
    "id": "F3coRFkjF6fI"
   },
   "source": []
  },
  {
   "cell_type": "code",
   "execution_count": 6,
   "metadata": {
    "colab": {
     "autoexec": {
      "startup": false,
      "wait_interval": 0
     },
     "base_uri": "https://localhost:8080/",
     "height": 805
    },
    "colab_type": "code",
    "executionInfo": {
     "elapsed": 882,
     "status": "ok",
     "timestamp": 1532503263009,
     "user": {
      "displayName": "Jesiel Charis",
      "photoUrl": "https://lh3.googleusercontent.com/a/default-user=s128",
      "userId": "117700027378170168700"
     },
     "user_tz": -180
    },
    "id": "7m_Et-tGK69k",
    "outputId": "930cabe6-5c10-48ce-ffb1-e87fea530d3e"
   },
   "outputs": [
    {
     "data": {
      "image/png": "iVBORw0KGgoAAAANSUhEUgAABVYAAAMACAYAAADPPjzCAAAAAXNSR0IArs4c6QAAAARnQU1BAACx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\nQmCC\n",
      "text/plain": [
       "<IPython.core.display.Image object>"
      ]
     },
     "execution_count": 6,
     "metadata": {
      "tags": []
     },
     "output_type": "execute_result"
    }
   ],
   "source": [
    "Image('summaryofdomain_rasa_nlu.png')"
   ]
  },
  {
   "cell_type": "code",
   "execution_count": 7,
   "metadata": {
    "colab": {
     "autoexec": {
      "startup": false,
      "wait_interval": 0
     },
     "base_uri": "https://localhost:8080/",
     "height": 34
    },
    "colab_type": "code",
    "executionInfo": {
     "elapsed": 810,
     "status": "ok",
     "timestamp": 1532503282876,
     "user": {
      "displayName": "Jesiel Charis",
      "photoUrl": "https://lh3.googleusercontent.com/a/default-user=s128",
      "userId": "117700027378170168700"
     },
     "user_tz": -180
    },
    "id": "mYfTB5o_F6fZ",
    "outputId": "51726f37-d9d9-4247-efcb-977362bec6d5"
   },
   "outputs": [
    {
     "name": "stdout",
     "output_type": "stream",
     "text": [
      "Writing 'domain_yml' (str) to file 'my_domain.yml'.\n"
     ]
    }
   ],
   "source": [
    "domain_yml = \"\"\"\n",
    "intents:\n",
    "  - greet\n",
    "  - goodbye\n",
    "  - mood_affirm\n",
    "  - mood_deny\n",
    "  - mood_great\n",
    "  - mood_unhappy\n",
    "  - purchase\n",
    "  - purchase_affirm\n",
    "  - purchase_deny\n",
    "  - inform\n",
    "  - weather\n",
    "  \n",
    "entities:\n",
    " - location\n",
    " - money\n",
    " \n",
    "slots:\n",
    " location:\n",
    "   type: text\n",
    "\n",
    "\n",
    "actions:\n",
    "- utter_greet\n",
    "- utter_cheer_up\n",
    "- utter_purchase\n",
    "- utter_price\n",
    "- utter_did_that_help\n",
    "- utter_ask_item\n",
    "- utter_show_item\n",
    "- utter_happy\n",
    "- utter_goodbye\n",
    "- utter_unclear\n",
    "- utter_ask_location\n",
    "\n",
    "templates:\n",
    "  utter_greet:\n",
    "  - text: \"Hey! How are you?\"\n",
    "  - text: \"Hi How are you?\"\n",
    "  - text: \"What's up\"\n",
    "  - text: \"Bonjour\"\n",
    "\n",
    "  utter_cheer_up:\n",
    "  - text: \"Stay motivated,all is well\"\n",
    "  - text: \"Here is something to make you happy\"\n",
    "  - text: \"Here is something to cheer you up:\"\n",
    "    image: \"https://i.imgur.com/nGF1K8f.jpg\"\n",
    "\n",
    "  utter_did_that_help:\n",
    "  - text: \"Did that help you?\"\n",
    "\n",
    "  utter_unclear:\n",
    "  - text: \"I am not sure what you are aiming for.\"\n",
    "  - text: \"How do you mean? Can you clarify \"\n",
    "  - text: \"Not quite sure what you want. \"\n",
    "  \n",
    "  utter_happy:\n",
    "  - text: \"Great carry on!\" \n",
    "  \n",
    "  utter_purchase:\n",
    "  - text: 'What item do you want to buy?'\n",
    "  - text: 'Here are some recommended products'\n",
    "  - text: 'You want to buy this?'\n",
    "  - text: 'We only have this?'\n",
    "  - text: 'Can you give me the specs ?'\n",
    "  \n",
    "  utter_ask_item:\n",
    "  - text: 'What item do you want to buy?'\n",
    "  - text: 'How many do you want to buy?'\n",
    "  - text: 'Which type?'\n",
    "\n",
    "  utter_show_item:\n",
    "  - text: \"Here are some suggestions.\"\n",
    "  - text: \"Check this one out.\"\n",
    "  - text: \"We only have this product\"\n",
    "  - text: \"Sending sample picture\"\n",
    "    \n",
    "  utter_price:\n",
    "  - text: \"It will cost you this much\"\n",
    "  - text: \"The price is 100\"\n",
    "  - text: \"You will pay\"\n",
    "  - text: \"Here is the bill\"\n",
    "  - text: \"The total cost is 2000, you can pay with your credit card.\"\n",
    "\n",
    "  utter_ask_location:\n",
    "  - text:'In what location?'\n",
    "  - text:'In which place?'\n",
    "  - text:'Where precisely?'\n",
    "\n",
    "  utter_goodbye:\n",
    "  - text: \"Bye\"\n",
    "  - text: \"Talk to you later\"\n",
    "  - text: \"Cu\"\n",
    "  - text: \"Aurevoir\"\n",
    "  - text: \"A bientot \"\n",
    "  - text: \"goodbye\"\n",
    "  - text: \"have a nice day\"\n",
    "  - text: \"see you around\"\n",
    "  - text: \"bye bye\"\n",
    "  - text: \"See you later\"\n",
    "  \n",
    "\"\"\"\n",
    "\n",
    "%store domain_yml > my_domain.yml"
   ]
  },
  {
   "cell_type": "markdown",
   "metadata": {
    "colab_type": "text",
    "id": "y2qiCMqGF6fi"
   },
   "source": [
    "#### Training your Dialogue Model\n",
    "+ rasa_core\n",
    "+ Using Keras\n",
    "+ Install keras + tensorflow backend"
   ]
  },
  {
   "cell_type": "code",
   "execution_count": 8,
   "metadata": {
    "colab": {
     "autoexec": {
      "startup": false,
      "wait_interval": 0
     },
     "base_uri": "https://localhost:8080/",
     "height": 34
    },
    "colab_type": "code",
    "executionInfo": {
     "elapsed": 805,
     "status": "ok",
     "timestamp": 1532503292835,
     "user": {
      "displayName": "Jesiel Charis",
      "photoUrl": "https://lh3.googleusercontent.com/a/default-user=s128",
      "userId": "117700027378170168700"
     },
     "user_tz": -180
    },
    "id": "ebQxJxrfF6fm",
    "outputId": "fc55e524-50de-45db-9889-9caefa61c839"
   },
   "outputs": [
    {
     "name": "stderr",
     "output_type": "stream",
     "text": [
      "INFO:apscheduler.scheduler:Scheduler started\n"
     ]
    }
   ],
   "source": [
    "# Load the packages without using fallbackpolicy\n",
    "from rasa_core.policies.keras_policy import KerasPolicy\n",
    "from rasa_core.agent import Agent"
   ]
  },
  {
   "cell_type": "code",
   "execution_count": 9,
   "metadata": {
    "colab": {
     "autoexec": {
      "startup": false,
      "wait_interval": 0
     },
     "base_uri": "https://localhost:8080/",
     "height": 204
    },
    "colab_type": "code",
    "executionInfo": {
     "elapsed": 2395,
     "status": "ok",
     "timestamp": 1532503301541,
     "user": {
      "displayName": "Jesiel Charis",
      "photoUrl": "https://lh3.googleusercontent.com/a/default-user=s128",
      "userId": "117700027378170168700"
     },
     "user_tz": -180
    },
    "id": "GwPaZvlBF6gA",
    "outputId": "e1589f52-0021-42ae-8cca-97de60806c7b"
   },
   "outputs": [
    {
     "name": "stderr",
     "output_type": "stream",
     "text": [
      "Using TensorFlow backend.\n",
      "/usr/local/lib/python3.6/dist-packages/pykwalify/core.py:99: UnsafeLoaderWarning: \n",
      "The default 'Loader' for 'load(stream)' without further arguments can be unsafe.\n",
      "Use 'load(stream, Loader=ruamel.yaml.Loader)' explicitly if that is OK.\n",
      "Alternatively include the following in your code:\n",
      "\n",
      "  import warnings\n",
      "  warnings.simplefilter('ignore', ruamel.yaml.error.UnsafeLoaderWarning)\n",
      "\n",
      "In most other cases you should consider using 'safe_load(stream)'\n",
      "  data = yaml.load(stream)\n"
     ]
    }
   ],
   "source": [
    "# Set the Agent\n",
    "agent = Agent('my_domain.yml', policies=[KerasPolicy()])"
   ]
  },
  {
   "cell_type": "code",
   "execution_count": 10,
   "metadata": {
    "colab": {
     "autoexec": {
      "startup": false,
      "wait_interval": 0
     },
     "base_uri": "https://localhost:8080/",
     "height": 14079
    },
    "colab_type": "code",
    "executionInfo": {
     "elapsed": 9443,
     "status": "ok",
     "timestamp": 1532503354330,
     "user": {
      "displayName": "Jesiel Charis",
      "photoUrl": "https://lh3.googleusercontent.com/a/default-user=s128",
      "userId": "117700027378170168700"
     },
     "user_tz": -180
    },
    "id": "B_4t29zjF6gJ",
    "outputId": "e22c2fe6-6fdf-41ab-a8a8-3a9ccc70eefa"
   },
   "outputs": [
    {
     "name": "stderr",
     "output_type": "stream",
     "text": [
      "WARNING:rasa_core.training.dsl:Found unknown intent 'purchase                  <! -- user intention to purchase things --->' on line 29. Please, make sure that all intents are listed in your domain yaml.\n",
      "WARNING:rasa_core.training.dsl:Found unknown intent 'purchase                  <! -- user intention to purchase things --->' on line 55. Please, make sure that all intents are listed in your domain yaml.\n",
      "Processed Story Blocks: 100%|██████████| 9/9 [00:00<00:00, 203.63it/s, # trackers=1]\n",
      "Processed Story Blocks: 100%|██████████| 9/9 [00:00<00:00, 155.73it/s, # trackers=9]\n",
      "Processed Story Blocks: 100%|██████████| 9/9 [00:00<00:00, 127.10it/s, # trackers=12]\n",
      "Processed Story Blocks: 100%|██████████| 9/9 [00:00<00:00, 102.87it/s, # trackers=12]\n",
      "INFO:rasa_core.featurizers:Creating states and action examples from collected trackers (by MaxHistoryTrackerFeaturizer)...\n",
      "Processed trackers:   1%|          | 2/295 [00:00<00:30,  9.49it/s, # actions=53]Processed trackers: 100%|██████████| 295/295 [00:18<00:00, 15.67it/s, # actions=247]\n",
      "INFO:rasa_core.featurizers:Created 247 action examples.\n",
      "INFO:rasa_core.policies.keras_policy:Fitting model with 247 total samples and a validation split of 0.0\n"
     ]
    },
    {
     "name": "stdout",
     "output_type": "stream",
     "text": [
      "_________________________________________________________________\n",
      "Layer (type)                 Output Shape              Param #   \n",
      "=================================================================\n",
      "masking_1 (Masking)          (None, 5, 28)             0         \n",
      "_________________________________________________________________\n",
      "lstm_1 (LSTM)                (None, 32)                7808      \n",
      "_________________________________________________________________\n",
      "dense_1 (Dense)              (None, 14)                462       \n",
      "_________________________________________________________________\n",
      "activation_1 (Activation)    (None, 14)                0         \n",
      "=================================================================\n",
      "Total params: 8,270\n",
      "Trainable params: 8,270\n",
      "Non-trainable params: 0\n",
      "_________________________________________________________________\n",
      "Epoch 1/400\n",
      "247/247 [==============================] - 1s 2ms/step - loss: 2.5988 - acc: 0.1984\n",
      "Epoch 2/400\n",
      "247/247 [==============================] - 0s 206us/step - loss: 2.4959 - acc: 0.3360\n",
      "Epoch 3/400\n",
      "247/247 [==============================] - 0s 209us/step - loss: 2.4017 - acc: 0.4372\n",
      "Epoch 4/400\n",
      "247/247 [==============================] - 0s 209us/step - loss: 2.2868 - acc: 0.4332\n",
      "Epoch 5/400\n",
      "247/247 [==============================] - 0s 221us/step - loss: 2.1853 - acc: 0.4332\n",
      "Epoch 6/400\n",
      "247/247 [==============================] - 0s 211us/step - loss: 2.0852 - acc: 0.4332\n",
      "Epoch 7/400\n",
      "247/247 [==============================] - 0s 212us/step - loss: 2.0203 - acc: 0.4332\n",
      "Epoch 8/400\n",
      "247/247 [==============================] - 0s 205us/step - loss: 1.9812 - acc: 0.4332\n",
      "Epoch 9/400\n",
      "247/247 [==============================] - 0s 208us/step - loss: 1.9493 - acc: 0.4332\n",
      "Epoch 10/400\n",
      "247/247 [==============================] - 0s 214us/step - loss: 1.9343 - acc: 0.4332\n",
      "Epoch 11/400\n",
      "247/247 [==============================] - 0s 220us/step - loss: 1.9058 - acc: 0.4332\n",
      "Epoch 12/400\n",
      "247/247 [==============================] - 0s 224us/step - loss: 1.8705 - acc: 0.4332\n",
      "Epoch 13/400\n",
      "247/247 [==============================] - 0s 214us/step - loss: 1.8384 - acc: 0.4332\n",
      "Epoch 14/400\n",
      "247/247 [==============================] - 0s 216us/step - loss: 1.8134 - acc: 0.4332\n",
      "Epoch 15/400\n",
      "247/247 [==============================] - 0s 212us/step - loss: 1.7973 - acc: 0.4332\n",
      "Epoch 16/400\n",
      "247/247 [==============================] - 0s 214us/step - loss: 1.7586 - acc: 0.4332\n",
      "Epoch 17/400\n",
      "247/247 [==============================] - 0s 216us/step - loss: 1.7413 - acc: 0.4332\n",
      "Epoch 18/400\n",
      "247/247 [==============================] - 0s 217us/step - loss: 1.7200 - acc: 0.4332\n",
      "Epoch 19/400\n",
      "247/247 [==============================] - 0s 223us/step - loss: 1.6843 - acc: 0.4332\n",
      "Epoch 20/400\n",
      "247/247 [==============================] - 0s 213us/step - loss: 1.6537 - acc: 0.4332\n",
      "Epoch 21/400\n",
      "247/247 [==============================] - 0s 219us/step - loss: 1.6415 - acc: 0.4332\n",
      "Epoch 22/400\n",
      "247/247 [==============================] - 0s 217us/step - loss: 1.6060 - acc: 0.4413\n",
      "Epoch 23/400\n",
      "247/247 [==============================] - 0s 216us/step - loss: 1.5687 - acc: 0.4332\n",
      "Epoch 24/400\n",
      " 32/247 [==>...........................] - ETA: 0s - loss: 1.6120 - acc: 0.4375247/247 [==============================] - 0s 212us/step - loss: 1.5275 - acc: 0.4453\n",
      "Epoch 25/400\n",
      "247/247 [==============================] - 0s 218us/step - loss: 1.4877 - acc: 0.4372\n",
      "Epoch 26/400\n",
      "247/247 [==============================] - 0s 216us/step - loss: 1.4764 - acc: 0.4575\n",
      "Epoch 27/400\n",
      "247/247 [==============================] - 0s 222us/step - loss: 1.4071 - acc: 0.4656\n",
      "Epoch 28/400\n",
      "247/247 [==============================] - 0s 215us/step - loss: 1.4093 - acc: 0.4696\n",
      "Epoch 29/400\n",
      "247/247 [==============================] - 0s 218us/step - loss: 1.3545 - acc: 0.5020\n",
      "Epoch 30/400\n",
      "247/247 [==============================] - 0s 217us/step - loss: 1.2914 - acc: 0.5263\n",
      "Epoch 31/400\n",
      "247/247 [==============================] - 0s 212us/step - loss: 1.2476 - acc: 0.5709\n",
      "Epoch 32/400\n",
      "247/247 [==============================] - 0s 208us/step - loss: 1.2137 - acc: 0.5951\n",
      "Epoch 33/400\n",
      "247/247 [==============================] - 0s 218us/step - loss: 1.1817 - acc: 0.6154\n",
      "Epoch 34/400\n",
      "247/247 [==============================] - 0s 223us/step - loss: 1.1213 - acc: 0.6559\n",
      "Epoch 35/400\n",
      "247/247 [==============================] - 0s 223us/step - loss: 1.0894 - acc: 0.6761\n",
      "Epoch 36/400\n",
      "247/247 [==============================] - 0s 213us/step - loss: 1.0617 - acc: 0.6518\n",
      "Epoch 37/400\n",
      "247/247 [==============================] - 0s 212us/step - loss: 1.0114 - acc: 0.7045\n",
      "Epoch 38/400\n",
      "247/247 [==============================] - 0s 220us/step - loss: 1.0286 - acc: 0.6397\n",
      "Epoch 39/400\n",
      "247/247 [==============================] - 0s 224us/step - loss: 0.9800 - acc: 0.7571\n",
      "Epoch 40/400\n",
      "247/247 [==============================] - 0s 217us/step - loss: 0.9531 - acc: 0.7328\n",
      "Epoch 41/400\n",
      "247/247 [==============================] - 0s 210us/step - loss: 0.9151 - acc: 0.7368\n",
      "Epoch 42/400\n",
      "247/247 [==============================] - 0s 215us/step - loss: 0.9025 - acc: 0.7328\n",
      "Epoch 43/400\n",
      "247/247 [==============================] - 0s 215us/step - loss: 0.9081 - acc: 0.7328\n",
      "Epoch 44/400\n",
      "247/247 [==============================] - 0s 213us/step - loss: 0.8542 - acc: 0.7652\n",
      "Epoch 45/400\n",
      "247/247 [==============================] - 0s 216us/step - loss: 0.8656 - acc: 0.7409\n",
      "Epoch 46/400\n",
      "247/247 [==============================] - 0s 218us/step - loss: 0.8354 - acc: 0.7692\n",
      "Epoch 47/400\n",
      "247/247 [==============================] - 0s 210us/step - loss: 0.8292 - acc: 0.7814\n",
      "Epoch 48/400\n",
      "247/247 [==============================] - 0s 214us/step - loss: 0.8068 - acc: 0.7652\n",
      "Epoch 49/400\n",
      "247/247 [==============================] - 0s 211us/step - loss: 0.7730 - acc: 0.7895\n",
      "Epoch 50/400\n",
      "247/247 [==============================] - 0s 225us/step - loss: 0.7563 - acc: 0.7935\n",
      "Epoch 51/400\n",
      "247/247 [==============================] - 0s 211us/step - loss: 0.7651 - acc: 0.7773\n",
      "Epoch 52/400\n",
      "247/247 [==============================] - 0s 211us/step - loss: 0.7587 - acc: 0.7611\n",
      "Epoch 53/400\n",
      "247/247 [==============================] - 0s 208us/step - loss: 0.7070 - acc: 0.8138\n",
      "Epoch 54/400\n",
      "247/247 [==============================] - 0s 215us/step - loss: 0.7102 - acc: 0.8016\n",
      "Epoch 55/400\n",
      "247/247 [==============================] - 0s 215us/step - loss: 0.7048 - acc: 0.7854\n",
      "Epoch 56/400\n",
      "247/247 [==============================] - 0s 215us/step - loss: 0.7022 - acc: 0.7935\n",
      "Epoch 57/400\n",
      "247/247 [==============================] - 0s 214us/step - loss: 0.6554 - acc: 0.8259\n",
      "Epoch 58/400\n",
      "247/247 [==============================] - 0s 213us/step - loss: 0.6524 - acc: 0.8421\n",
      "Epoch 59/400\n",
      "247/247 [==============================] - 0s 214us/step - loss: 0.6577 - acc: 0.8259\n",
      "Epoch 60/400\n",
      "247/247 [==============================] - 0s 211us/step - loss: 0.6397 - acc: 0.8300\n",
      "Epoch 61/400\n",
      "247/247 [==============================] - 0s 208us/step - loss: 0.6175 - acc: 0.8381\n",
      "Epoch 62/400\n",
      "247/247 [==============================] - 0s 210us/step - loss: 0.6499 - acc: 0.8219\n",
      "Epoch 63/400\n",
      "247/247 [==============================] - 0s 206us/step - loss: 0.6038 - acc: 0.8421\n",
      "Epoch 64/400\n",
      "247/247 [==============================] - 0s 211us/step - loss: 0.5921 - acc: 0.8583\n",
      "Epoch 65/400\n",
      "247/247 [==============================] - 0s 213us/step - loss: 0.5796 - acc: 0.8623\n",
      "Epoch 66/400\n",
      "247/247 [==============================] - 0s 213us/step - loss: 0.5951 - acc: 0.8219\n",
      "Epoch 67/400\n",
      "247/247 [==============================] - 0s 211us/step - loss: 0.5693 - acc: 0.8543\n",
      "Epoch 68/400\n",
      "247/247 [==============================] - 0s 216us/step - loss: 0.5642 - acc: 0.8785\n",
      "Epoch 69/400\n",
      "247/247 [==============================] - 0s 221us/step - loss: 0.5252 - acc: 0.8623\n",
      "Epoch 70/400\n",
      "247/247 [==============================] - 0s 214us/step - loss: 0.5204 - acc: 0.8947\n",
      "Epoch 71/400\n",
      "247/247 [==============================] - 0s 215us/step - loss: 0.5498 - acc: 0.8623\n",
      "Epoch 72/400\n",
      "247/247 [==============================] - 0s 209us/step - loss: 0.4806 - acc: 0.9150\n",
      "Epoch 73/400\n",
      "247/247 [==============================] - 0s 212us/step - loss: 0.5142 - acc: 0.8745\n",
      "Epoch 74/400\n",
      "247/247 [==============================] - 0s 220us/step - loss: 0.4977 - acc: 0.8947\n",
      "Epoch 75/400\n",
      "247/247 [==============================] - 0s 218us/step - loss: 0.4823 - acc: 0.8745\n",
      "Epoch 76/400\n",
      "247/247 [==============================] - 0s 219us/step - loss: 0.4675 - acc: 0.9150\n",
      "Epoch 77/400\n",
      "247/247 [==============================] - 0s 216us/step - loss: 0.4590 - acc: 0.9109\n",
      "Epoch 78/400\n",
      "247/247 [==============================] - 0s 212us/step - loss: 0.4700 - acc: 0.8826\n",
      "Epoch 79/400\n",
      "247/247 [==============================] - 0s 212us/step - loss: 0.4523 - acc: 0.9190\n",
      "Epoch 80/400\n",
      "247/247 [==============================] - 0s 209us/step - loss: 0.4261 - acc: 0.9271\n",
      "Epoch 81/400\n",
      "247/247 [==============================] - 0s 208us/step - loss: 0.4487 - acc: 0.9028\n",
      "Epoch 82/400\n",
      "247/247 [==============================] - 0s 204us/step - loss: 0.4214 - acc: 0.9271\n",
      "Epoch 83/400\n",
      "247/247 [==============================] - 0s 200us/step - loss: 0.4371 - acc: 0.9069\n",
      "Epoch 84/400\n",
      "247/247 [==============================] - 0s 207us/step - loss: 0.4151 - acc: 0.9150\n",
      "Epoch 85/400\n",
      "247/247 [==============================] - 0s 208us/step - loss: 0.4140 - acc: 0.9190\n",
      "Epoch 86/400\n",
      "247/247 [==============================] - 0s 203us/step - loss: 0.4541 - acc: 0.8785\n",
      "Epoch 87/400\n",
      "247/247 [==============================] - 0s 204us/step - loss: 0.3879 - acc: 0.9352\n",
      "Epoch 88/400\n",
      "247/247 [==============================] - 0s 212us/step - loss: 0.3923 - acc: 0.9393\n",
      "Epoch 89/400\n",
      "247/247 [==============================] - 0s 216us/step - loss: 0.3753 - acc: 0.9393\n",
      "Epoch 90/400\n",
      "247/247 [==============================] - 0s 217us/step - loss: 0.3921 - acc: 0.9190\n",
      "Epoch 91/400\n",
      "247/247 [==============================] - 0s 213us/step - loss: 0.3902 - acc: 0.9190\n",
      "Epoch 92/400\n",
      "247/247 [==============================] - 0s 214us/step - loss: 0.3747 - acc: 0.9271\n",
      "Epoch 93/400\n",
      "247/247 [==============================] - 0s 212us/step - loss: 0.3671 - acc: 0.9433\n",
      "Epoch 94/400\n",
      "247/247 [==============================] - 0s 220us/step - loss: 0.3576 - acc: 0.9150\n",
      "Epoch 95/400\n",
      "247/247 [==============================] - 0s 215us/step - loss: 0.3510 - acc: 0.9312\n",
      "Epoch 96/400\n",
      "247/247 [==============================] - 0s 208us/step - loss: 0.3391 - acc: 0.9433\n",
      "Epoch 97/400\n",
      "247/247 [==============================] - 0s 212us/step - loss: 0.3339 - acc: 0.9352\n",
      "Epoch 98/400\n",
      "247/247 [==============================] - 0s 200us/step - loss: 0.3316 - acc: 0.9393\n",
      "Epoch 99/400\n",
      "247/247 [==============================] - 0s 204us/step - loss: 0.3442 - acc: 0.9312\n",
      "Epoch 100/400\n",
      "247/247 [==============================] - 0s 203us/step - loss: 0.3003 - acc: 0.9312\n",
      "Epoch 101/400\n",
      "247/247 [==============================] - 0s 200us/step - loss: 0.3199 - acc: 0.9514\n",
      "Epoch 102/400\n",
      "247/247 [==============================] - 0s 198us/step - loss: 0.3127 - acc: 0.9514\n",
      "Epoch 103/400\n",
      "247/247 [==============================] - 0s 198us/step - loss: 0.3058 - acc: 0.9595\n",
      "Epoch 104/400\n",
      "247/247 [==============================] - 0s 202us/step - loss: 0.3048 - acc: 0.9595\n",
      "Epoch 105/400\n",
      "247/247 [==============================] - 0s 199us/step - loss: 0.2966 - acc: 0.9433\n",
      "Epoch 106/400\n",
      "247/247 [==============================] - 0s 199us/step - loss: 0.3171 - acc: 0.9393\n",
      "Epoch 107/400\n",
      "247/247 [==============================] - 0s 203us/step - loss: 0.2681 - acc: 0.9555\n",
      "Epoch 108/400\n",
      "247/247 [==============================] - 0s 202us/step - loss: 0.2768 - acc: 0.9555\n",
      "Epoch 109/400\n",
      "247/247 [==============================] - 0s 207us/step - loss: 0.2996 - acc: 0.9433\n",
      "Epoch 110/400\n",
      "247/247 [==============================] - 0s 204us/step - loss: 0.2678 - acc: 0.9636\n",
      "Epoch 111/400\n",
      "247/247 [==============================] - 0s 201us/step - loss: 0.2645 - acc: 0.9555\n",
      "Epoch 112/400\n",
      "247/247 [==============================] - 0s 207us/step - loss: 0.2741 - acc: 0.9474\n",
      "Epoch 113/400\n",
      "247/247 [==============================] - 0s 226us/step - loss: 0.2838 - acc: 0.9474\n",
      "Epoch 114/400\n",
      "247/247 [==============================] - 0s 207us/step - loss: 0.2665 - acc: 0.9474\n",
      "Epoch 115/400\n",
      "247/247 [==============================] - 0s 209us/step - loss: 0.2697 - acc: 0.9393\n",
      "Epoch 116/400\n",
      " 32/247 [==>...........................] - ETA: 0s - loss: 0.2566 - acc: 0.9688247/247 [==============================] - 0s 206us/step - loss: 0.2389 - acc: 0.9636\n",
      "Epoch 117/400\n",
      "247/247 [==============================] - 0s 202us/step - loss: 0.2448 - acc: 0.9555\n",
      "Epoch 118/400\n",
      "247/247 [==============================] - 0s 207us/step - loss: 0.2432 - acc: 0.9555\n",
      "Epoch 119/400\n",
      "247/247 [==============================] - 0s 202us/step - loss: 0.2462 - acc: 0.9514\n",
      "Epoch 120/400\n",
      "247/247 [==============================] - 0s 207us/step - loss: 0.2181 - acc: 0.9676\n",
      "Epoch 121/400\n",
      "247/247 [==============================] - 0s 201us/step - loss: 0.2147 - acc: 0.9676\n",
      "Epoch 122/400\n",
      "247/247 [==============================] - 0s 212us/step - loss: 0.2464 - acc: 0.9717\n",
      "Epoch 123/400\n",
      "247/247 [==============================] - 0s 202us/step - loss: 0.2379 - acc: 0.9393\n",
      "Epoch 124/400\n",
      "247/247 [==============================] - 0s 203us/step - loss: 0.2137 - acc: 0.9717\n",
      "Epoch 125/400\n",
      "247/247 [==============================] - 0s 203us/step - loss: 0.2222 - acc: 0.9595\n",
      "Epoch 126/400\n",
      "247/247 [==============================] - 0s 211us/step - loss: 0.2281 - acc: 0.9595\n",
      "Epoch 127/400\n",
      "247/247 [==============================] - 0s 203us/step - loss: 0.2210 - acc: 0.9595\n",
      "Epoch 128/400\n",
      "247/247 [==============================] - 0s 203us/step - loss: 0.2329 - acc: 0.9514\n",
      "Epoch 129/400\n",
      "247/247 [==============================] - 0s 203us/step - loss: 0.2023 - acc: 0.9717\n",
      "Epoch 130/400\n",
      "247/247 [==============================] - 0s 211us/step - loss: 0.2056 - acc: 0.9595\n",
      "Epoch 131/400\n",
      "247/247 [==============================] - 0s 207us/step - loss: 0.1984 - acc: 0.9798\n",
      "Epoch 132/400\n",
      "247/247 [==============================] - 0s 215us/step - loss: 0.2114 - acc: 0.9676\n",
      "Epoch 133/400\n",
      "247/247 [==============================] - 0s 208us/step - loss: 0.1858 - acc: 0.9595\n",
      "Epoch 134/400\n",
      "247/247 [==============================] - 0s 197us/step - loss: 0.1867 - acc: 0.9636\n",
      "Epoch 135/400\n",
      "247/247 [==============================] - 0s 195us/step - loss: 0.1992 - acc: 0.9676\n",
      "Epoch 136/400\n",
      "247/247 [==============================] - 0s 202us/step - loss: 0.1765 - acc: 0.9879\n",
      "Epoch 137/400\n",
      "247/247 [==============================] - 0s 198us/step - loss: 0.1797 - acc: 0.9717\n",
      "Epoch 138/400\n",
      "247/247 [==============================] - 0s 200us/step - loss: 0.1985 - acc: 0.9595\n",
      "Epoch 139/400\n",
      "247/247 [==============================] - 0s 207us/step - loss: 0.1725 - acc: 0.9757\n",
      "Epoch 140/400\n",
      "247/247 [==============================] - 0s 194us/step - loss: 0.1827 - acc: 0.9757\n",
      "Epoch 141/400\n",
      "247/247 [==============================] - 0s 199us/step - loss: 0.1779 - acc: 0.9798\n",
      "Epoch 142/400\n",
      "247/247 [==============================] - 0s 191us/step - loss: 0.1764 - acc: 0.9717\n",
      "Epoch 143/400\n",
      "247/247 [==============================] - 0s 193us/step - loss: 0.1669 - acc: 0.9595\n",
      "Epoch 144/400\n",
      "247/247 [==============================] - 0s 208us/step - loss: 0.1680 - acc: 0.9636\n",
      "Epoch 145/400\n",
      "247/247 [==============================] - 0s 200us/step - loss: 0.1707 - acc: 0.9676\n",
      "Epoch 146/400\n",
      "247/247 [==============================] - 0s 204us/step - loss: 0.1684 - acc: 0.9757\n",
      "Epoch 147/400\n",
      "247/247 [==============================] - 0s 200us/step - loss: 0.1569 - acc: 0.9676\n",
      "Epoch 148/400\n",
      "247/247 [==============================] - 0s 218us/step - loss: 0.1528 - acc: 0.9636\n",
      "Epoch 149/400\n",
      "247/247 [==============================] - 0s 216us/step - loss: 0.1768 - acc: 0.9717\n",
      "Epoch 150/400\n",
      "247/247 [==============================] - 0s 213us/step - loss: 0.1525 - acc: 0.9757\n",
      "Epoch 151/400\n",
      "247/247 [==============================] - 0s 207us/step - loss: 0.1527 - acc: 0.9717\n",
      "Epoch 152/400\n",
      "247/247 [==============================] - 0s 212us/step - loss: 0.1550 - acc: 0.9717\n",
      "Epoch 153/400\n",
      "247/247 [==============================] - 0s 208us/step - loss: 0.1517 - acc: 0.9757\n",
      "Epoch 154/400\n",
      "247/247 [==============================] - 0s 249us/step - loss: 0.1713 - acc: 0.9676\n",
      "Epoch 155/400\n",
      "247/247 [==============================] - 0s 193us/step - loss: 0.1653 - acc: 0.9798\n",
      "Epoch 156/400\n",
      "247/247 [==============================] - 0s 196us/step - loss: 0.1660 - acc: 0.9676\n",
      "Epoch 157/400\n",
      "247/247 [==============================] - 0s 196us/step - loss: 0.1412 - acc: 0.9879\n",
      "Epoch 158/400\n",
      "247/247 [==============================] - 0s 191us/step - loss: 0.1507 - acc: 0.9717\n",
      "Epoch 159/400\n",
      "247/247 [==============================] - 0s 200us/step - loss: 0.1547 - acc: 0.9757\n",
      "Epoch 160/400\n",
      "247/247 [==============================] - 0s 198us/step - loss: 0.1544 - acc: 0.9676\n",
      "Epoch 161/400\n",
      "247/247 [==============================] - 0s 198us/step - loss: 0.1560 - acc: 0.9757\n",
      "Epoch 162/400\n",
      "247/247 [==============================] - 0s 195us/step - loss: 0.1452 - acc: 0.9838\n",
      "Epoch 163/400\n",
      "247/247 [==============================] - 0s 196us/step - loss: 0.1221 - acc: 0.9717\n",
      "Epoch 164/400\n",
      "247/247 [==============================] - 0s 215us/step - loss: 0.1412 - acc: 0.9676\n",
      "Epoch 165/400\n",
      "247/247 [==============================] - 0s 201us/step - loss: 0.1126 - acc: 0.9879\n",
      "Epoch 166/400\n",
      "247/247 [==============================] - 0s 198us/step - loss: 0.1463 - acc: 0.9676\n",
      "Epoch 167/400\n",
      "247/247 [==============================] - 0s 202us/step - loss: 0.1426 - acc: 0.9757\n",
      "Epoch 168/400\n",
      "247/247 [==============================] - 0s 206us/step - loss: 0.1209 - acc: 0.9798\n",
      "Epoch 169/400\n",
      "247/247 [==============================] - 0s 206us/step - loss: 0.1377 - acc: 0.9636\n",
      "Epoch 170/400\n",
      "247/247 [==============================] - 0s 195us/step - loss: 0.1199 - acc: 0.9798\n",
      "Epoch 171/400\n",
      "247/247 [==============================] - 0s 191us/step - loss: 0.1135 - acc: 0.9757\n",
      "Epoch 172/400\n",
      "247/247 [==============================] - 0s 187us/step - loss: 0.1342 - acc: 0.9838\n",
      "Epoch 173/400\n",
      "247/247 [==============================] - 0s 195us/step - loss: 0.1150 - acc: 0.9757\n",
      "Epoch 174/400\n",
      "247/247 [==============================] - 0s 203us/step - loss: 0.1261 - acc: 0.9757\n",
      "Epoch 175/400\n",
      "247/247 [==============================] - 0s 240us/step - loss: 0.1291 - acc: 0.9798\n",
      "Epoch 176/400\n",
      "247/247 [==============================] - 0s 199us/step - loss: 0.1142 - acc: 0.9757\n",
      "Epoch 177/400\n",
      "247/247 [==============================] - 0s 196us/step - loss: 0.1139 - acc: 0.9757\n",
      "Epoch 178/400\n",
      "247/247 [==============================] - 0s 200us/step - loss: 0.1280 - acc: 0.9798\n",
      "Epoch 179/400\n",
      "247/247 [==============================] - 0s 209us/step - loss: 0.1083 - acc: 0.9798\n",
      "Epoch 180/400\n",
      "247/247 [==============================] - 0s 208us/step - loss: 0.1225 - acc: 0.9879\n",
      "Epoch 181/400\n",
      "247/247 [==============================] - 0s 191us/step - loss: 0.0986 - acc: 0.9879\n",
      "Epoch 182/400\n",
      "247/247 [==============================] - 0s 200us/step - loss: 0.1302 - acc: 0.9757\n",
      "Epoch 183/400\n",
      "247/247 [==============================] - 0s 212us/step - loss: 0.1065 - acc: 0.9879\n",
      "Epoch 184/400\n",
      "247/247 [==============================] - 0s 198us/step - loss: 0.1135 - acc: 0.9757\n",
      "Epoch 185/400\n",
      "247/247 [==============================] - 0s 197us/step - loss: 0.1074 - acc: 0.9838\n",
      "Epoch 186/400\n",
      "247/247 [==============================] - 0s 212us/step - loss: 0.1029 - acc: 0.9879\n",
      "Epoch 187/400\n",
      "247/247 [==============================] - 0s 227us/step - loss: 0.1233 - acc: 0.9757\n",
      "Epoch 188/400\n",
      "247/247 [==============================] - 0s 251us/step - loss: 0.1175 - acc: 0.9757\n",
      "Epoch 189/400\n",
      "247/247 [==============================] - 0s 230us/step - loss: 0.1086 - acc: 0.9717\n",
      "Epoch 190/400\n",
      "247/247 [==============================] - 0s 216us/step - loss: 0.0930 - acc: 0.9879\n",
      "Epoch 191/400\n",
      "247/247 [==============================] - 0s 214us/step - loss: 0.0971 - acc: 0.9838\n",
      "Epoch 192/400\n",
      "247/247 [==============================] - 0s 339us/step - loss: 0.1013 - acc: 0.9838\n",
      "Epoch 193/400\n",
      "247/247 [==============================] - 0s 222us/step - loss: 0.0838 - acc: 0.9879\n",
      "Epoch 194/400\n",
      "247/247 [==============================] - 0s 234us/step - loss: 0.1337 - acc: 0.9676\n",
      "Epoch 195/400\n",
      "247/247 [==============================] - 0s 207us/step - loss: 0.0786 - acc: 0.9798\n",
      "Epoch 196/400\n",
      "247/247 [==============================] - 0s 212us/step - loss: 0.1119 - acc: 0.9757\n",
      "Epoch 197/400\n",
      "247/247 [==============================] - 0s 214us/step - loss: 0.1005 - acc: 0.9717\n",
      "Epoch 198/400\n",
      "247/247 [==============================] - 0s 244us/step - loss: 0.0928 - acc: 0.9838\n",
      "Epoch 199/400\n",
      "247/247 [==============================] - 0s 213us/step - loss: 0.0797 - acc: 0.9919\n",
      "Epoch 200/400\n",
      "247/247 [==============================] - 0s 209us/step - loss: 0.0997 - acc: 0.9757\n",
      "Epoch 201/400\n",
      "247/247 [==============================] - 0s 259us/step - loss: 0.0907 - acc: 0.9879\n",
      "Epoch 202/400\n",
      "247/247 [==============================] - 0s 212us/step - loss: 0.0784 - acc: 0.9919\n",
      "Epoch 203/400\n",
      " 32/247 [==>...........................] - ETA: 0s - loss: 0.1598 - acc: 0.9688247/247 [==============================] - 0s 215us/step - loss: 0.0979 - acc: 0.9838\n",
      "Epoch 204/400\n",
      "247/247 [==============================] - 0s 210us/step - loss: 0.1130 - acc: 0.9717\n",
      "Epoch 205/400\n",
      "247/247 [==============================] - 0s 209us/step - loss: 0.1051 - acc: 0.9798\n",
      "Epoch 206/400\n",
      "247/247 [==============================] - 0s 202us/step - loss: 0.0972 - acc: 0.9798\n",
      "Epoch 207/400\n",
      "247/247 [==============================] - 0s 212us/step - loss: 0.0801 - acc: 0.9960\n",
      "Epoch 208/400\n",
      "247/247 [==============================] - 0s 215us/step - loss: 0.0745 - acc: 0.9919\n",
      "Epoch 209/400\n",
      "247/247 [==============================] - 0s 203us/step - loss: 0.0710 - acc: 0.9960\n",
      "Epoch 210/400\n",
      "247/247 [==============================] - 0s 199us/step - loss: 0.0684 - acc: 0.9919\n",
      "Epoch 211/400\n",
      "247/247 [==============================] - 0s 202us/step - loss: 0.0866 - acc: 0.9879\n",
      "Epoch 212/400\n",
      "247/247 [==============================] - 0s 202us/step - loss: 0.0843 - acc: 0.9798\n",
      "Epoch 213/400\n",
      "247/247 [==============================] - 0s 194us/step - loss: 0.0853 - acc: 0.9919\n",
      "Epoch 214/400\n",
      "247/247 [==============================] - 0s 211us/step - loss: 0.0876 - acc: 0.9838\n",
      "Epoch 215/400\n",
      "247/247 [==============================] - 0s 207us/step - loss: 0.0654 - acc: 0.9879\n",
      "Epoch 216/400\n",
      "247/247 [==============================] - 0s 258us/step - loss: 0.1119 - acc: 0.9757\n",
      "Epoch 217/400\n",
      "247/247 [==============================] - 0s 202us/step - loss: 0.0887 - acc: 0.9879\n",
      "Epoch 218/400\n",
      "247/247 [==============================] - 0s 213us/step - loss: 0.0921 - acc: 0.9798\n",
      "Epoch 219/400\n",
      "247/247 [==============================] - 0s 209us/step - loss: 0.0851 - acc: 0.9838\n",
      "Epoch 220/400\n",
      "247/247 [==============================] - 0s 219us/step - loss: 0.0823 - acc: 0.9838\n",
      "Epoch 221/400\n",
      "247/247 [==============================] - 0s 208us/step - loss: 0.0634 - acc: 0.9879\n",
      "Epoch 222/400\n",
      "247/247 [==============================] - 0s 215us/step - loss: 0.0922 - acc: 0.9838\n",
      "Epoch 223/400\n",
      "247/247 [==============================] - 0s 216us/step - loss: 0.0802 - acc: 0.9879\n",
      "Epoch 224/400\n",
      "247/247 [==============================] - 0s 211us/step - loss: 0.0700 - acc: 0.9879\n",
      "Epoch 225/400\n",
      "247/247 [==============================] - 0s 210us/step - loss: 0.0913 - acc: 0.9838\n",
      "Epoch 226/400\n",
      "247/247 [==============================] - 0s 238us/step - loss: 0.0792 - acc: 0.9838\n",
      "Epoch 227/400\n",
      "247/247 [==============================] - 0s 203us/step - loss: 0.0648 - acc: 0.9879\n",
      "Epoch 228/400\n",
      "247/247 [==============================] - 0s 203us/step - loss: 0.0648 - acc: 0.9879\n",
      "Epoch 229/400\n",
      "247/247 [==============================] - 0s 202us/step - loss: 0.0672 - acc: 0.9919\n",
      "Epoch 230/400\n",
      "247/247 [==============================] - 0s 224us/step - loss: 0.0686 - acc: 0.9919\n",
      "Epoch 231/400\n",
      "247/247 [==============================] - 0s 208us/step - loss: 0.0573 - acc: 0.9879\n",
      "Epoch 232/400\n",
      "247/247 [==============================] - 0s 223us/step - loss: 0.0679 - acc: 0.9838\n",
      "Epoch 233/400\n",
      "247/247 [==============================] - 0s 205us/step - loss: 0.0606 - acc: 0.9919\n",
      "Epoch 234/400\n",
      "247/247 [==============================] - 0s 201us/step - loss: 0.0640 - acc: 0.9879\n",
      "Epoch 235/400\n",
      "247/247 [==============================] - 0s 208us/step - loss: 0.0545 - acc: 0.9960\n",
      "Epoch 236/400\n",
      "247/247 [==============================] - 0s 204us/step - loss: 0.0741 - acc: 0.9838\n",
      "Epoch 237/400\n",
      "247/247 [==============================] - 0s 256us/step - loss: 0.0481 - acc: 0.9960\n",
      "Epoch 238/400\n",
      "247/247 [==============================] - 0s 227us/step - loss: 0.0646 - acc: 0.9879\n",
      "Epoch 239/400\n",
      "247/247 [==============================] - 0s 254us/step - loss: 0.0764 - acc: 0.9757\n",
      "Epoch 240/400\n",
      "247/247 [==============================] - 0s 222us/step - loss: 0.0607 - acc: 0.9879\n",
      "Epoch 241/400\n",
      "247/247 [==============================] - 0s 218us/step - loss: 0.0833 - acc: 0.9757\n",
      "Epoch 242/400\n",
      "247/247 [==============================] - 0s 214us/step - loss: 0.0572 - acc: 0.9960\n",
      "Epoch 243/400\n",
      "247/247 [==============================] - 0s 245us/step - loss: 0.0581 - acc: 0.9879\n",
      "Epoch 244/400\n",
      "247/247 [==============================] - 0s 229us/step - loss: 0.0652 - acc: 0.9838\n",
      "Epoch 245/400\n",
      "247/247 [==============================] - 0s 564us/step - loss: 0.0587 - acc: 0.9960\n",
      "Epoch 246/400\n",
      "247/247 [==============================] - 0s 1ms/step - loss: 0.0612 - acc: 0.9879\n",
      "Epoch 247/400\n",
      "247/247 [==============================] - 0s 359us/step - loss: 0.0699 - acc: 0.9879\n",
      "Epoch 248/400\n",
      "247/247 [==============================] - 0s 515us/step - loss: 0.0432 - acc: 0.9960\n",
      "Epoch 249/400\n",
      "247/247 [==============================] - 0s 584us/step - loss: 0.0793 - acc: 0.9757\n",
      "Epoch 250/400\n",
      "247/247 [==============================] - 0s 440us/step - loss: 0.0608 - acc: 0.9798\n",
      "Epoch 251/400\n",
      "247/247 [==============================] - 0s 553us/step - loss: 0.0476 - acc: 0.9879\n",
      "Epoch 252/400\n",
      "247/247 [==============================] - 0s 498us/step - loss: 0.0692 - acc: 0.9838\n",
      "Epoch 253/400\n",
      "247/247 [==============================] - 0s 486us/step - loss: 0.0475 - acc: 0.9960\n",
      "Epoch 254/400\n",
      "247/247 [==============================] - 0s 551us/step - loss: 0.0567 - acc: 0.9919\n",
      "Epoch 255/400\n",
      "247/247 [==============================] - 0s 711us/step - loss: 0.0655 - acc: 0.9798\n",
      "Epoch 256/400\n",
      "247/247 [==============================] - 0s 531us/step - loss: 0.0659 - acc: 0.9838\n",
      "Epoch 257/400\n",
      "247/247 [==============================] - 0s 444us/step - loss: 0.0441 - acc: 0.9960\n",
      "Epoch 258/400\n",
      "247/247 [==============================] - 0s 423us/step - loss: 0.0629 - acc: 0.9879\n",
      "Epoch 259/400\n",
      "247/247 [==============================] - 0s 469us/step - loss: 0.0439 - acc: 0.9879\n",
      "Epoch 260/400\n",
      "247/247 [==============================] - 0s 554us/step - loss: 0.0534 - acc: 0.9879\n",
      "Epoch 261/400\n",
      "247/247 [==============================] - 0s 464us/step - loss: 0.0354 - acc: 0.9960\n",
      "Epoch 262/400\n",
      "247/247 [==============================] - 0s 543us/step - loss: 0.0610 - acc: 0.9879\n",
      "Epoch 263/400\n",
      "247/247 [==============================] - 0s 540us/step - loss: 0.0354 - acc: 0.9960\n",
      "Epoch 264/400\n",
      "247/247 [==============================] - 0s 1ms/step - loss: 0.0473 - acc: 0.9960\n",
      "Epoch 265/400\n",
      "247/247 [==============================] - 0s 557us/step - loss: 0.0437 - acc: 0.9919\n",
      "Epoch 266/400\n",
      "247/247 [==============================] - 0s 317us/step - loss: 0.0428 - acc: 0.9960\n",
      "Epoch 267/400\n",
      "247/247 [==============================] - 0s 220us/step - loss: 0.0568 - acc: 0.9838\n",
      "Epoch 268/400\n",
      "247/247 [==============================] - 0s 233us/step - loss: 0.0620 - acc: 0.9879\n",
      "Epoch 269/400\n",
      "247/247 [==============================] - 0s 242us/step - loss: 0.0373 - acc: 0.9919\n",
      "Epoch 270/400\n",
      "247/247 [==============================] - 0s 211us/step - loss: 0.0538 - acc: 0.9879\n",
      "Epoch 271/400\n",
      "247/247 [==============================] - 0s 218us/step - loss: 0.0558 - acc: 0.9838\n",
      "Epoch 272/400\n",
      "247/247 [==============================] - 0s 222us/step - loss: 0.0559 - acc: 0.9960\n",
      "Epoch 273/400\n",
      "247/247 [==============================] - 0s 262us/step - loss: 0.0641 - acc: 0.9838\n",
      "Epoch 274/400\n",
      "247/247 [==============================] - 0s 211us/step - loss: 0.0689 - acc: 0.9798\n",
      "Epoch 275/400\n",
      "247/247 [==============================] - 0s 211us/step - loss: 0.0464 - acc: 0.9919\n",
      "Epoch 276/400\n",
      "247/247 [==============================] - 0s 216us/step - loss: 0.0400 - acc: 0.9960\n",
      "Epoch 277/400\n",
      "247/247 [==============================] - 0s 216us/step - loss: 0.0714 - acc: 0.9757\n",
      "Epoch 278/400\n",
      "247/247 [==============================] - 0s 224us/step - loss: 0.0470 - acc: 0.9960\n",
      "Epoch 279/400\n",
      "247/247 [==============================] - 0s 215us/step - loss: 0.0488 - acc: 0.9960\n",
      "Epoch 280/400\n",
      "247/247 [==============================] - 0s 211us/step - loss: 0.0250 - acc: 1.0000\n",
      "Epoch 281/400\n",
      "247/247 [==============================] - 0s 233us/step - loss: 0.0355 - acc: 0.9960\n",
      "Epoch 282/400\n",
      "247/247 [==============================] - 0s 215us/step - loss: 0.0287 - acc: 1.0000\n",
      "Epoch 283/400\n",
      "247/247 [==============================] - 0s 216us/step - loss: 0.0563 - acc: 0.9838\n",
      "Epoch 284/400\n",
      "247/247 [==============================] - 0s 222us/step - loss: 0.0360 - acc: 0.9960\n",
      "Epoch 285/400\n",
      "247/247 [==============================] - 0s 223us/step - loss: 0.0557 - acc: 0.9879\n",
      "Epoch 286/400\n",
      " 32/247 [==>...........................] - ETA: 0s - loss: 0.0169 - acc: 1.0000247/247 [==============================] - 0s 225us/step - loss: 0.0564 - acc: 0.9879\n",
      "Epoch 287/400\n",
      "247/247 [==============================] - 0s 213us/step - loss: 0.0316 - acc: 0.9960\n",
      "Epoch 288/400\n",
      "247/247 [==============================] - 0s 217us/step - loss: 0.0492 - acc: 0.9879\n",
      "Epoch 289/400\n",
      "247/247 [==============================] - 0s 232us/step - loss: 0.0318 - acc: 1.0000\n",
      "Epoch 290/400\n",
      "247/247 [==============================] - 0s 238us/step - loss: 0.0356 - acc: 0.9960\n",
      "Epoch 291/400\n",
      "247/247 [==============================] - 0s 224us/step - loss: 0.0631 - acc: 0.9717\n",
      "Epoch 292/400\n",
      "247/247 [==============================] - 0s 228us/step - loss: 0.0383 - acc: 0.9960\n",
      "Epoch 293/400\n",
      "247/247 [==============================] - 0s 224us/step - loss: 0.0389 - acc: 0.9919\n",
      "Epoch 294/400\n",
      "247/247 [==============================] - 0s 218us/step - loss: 0.0562 - acc: 0.9919\n",
      "Epoch 295/400\n",
      "247/247 [==============================] - 0s 222us/step - loss: 0.0449 - acc: 0.9919\n",
      "Epoch 296/400\n",
      "247/247 [==============================] - 0s 216us/step - loss: 0.0436 - acc: 0.9919\n",
      "Epoch 297/400\n",
      "247/247 [==============================] - 0s 215us/step - loss: 0.0363 - acc: 0.9960\n",
      "Epoch 298/400\n",
      "247/247 [==============================] - 0s 213us/step - loss: 0.0359 - acc: 0.9960\n",
      "Epoch 299/400\n",
      "247/247 [==============================] - 0s 213us/step - loss: 0.0375 - acc: 0.9960\n",
      "Epoch 300/400\n",
      "247/247 [==============================] - 0s 225us/step - loss: 0.0441 - acc: 0.9919\n",
      "Epoch 301/400\n",
      "247/247 [==============================] - 0s 221us/step - loss: 0.0472 - acc: 0.9838\n",
      "Epoch 302/400\n",
      "247/247 [==============================] - 0s 213us/step - loss: 0.0231 - acc: 1.0000\n",
      "Epoch 303/400\n",
      "247/247 [==============================] - 0s 223us/step - loss: 0.0358 - acc: 0.9960\n",
      "Epoch 304/400\n",
      "247/247 [==============================] - 0s 222us/step - loss: 0.0462 - acc: 0.9879\n",
      "Epoch 305/400\n",
      "247/247 [==============================] - 0s 211us/step - loss: 0.0426 - acc: 0.9838\n",
      "Epoch 306/400\n",
      "247/247 [==============================] - 0s 211us/step - loss: 0.0421 - acc: 0.9919\n",
      "Epoch 307/400\n",
      "247/247 [==============================] - 0s 219us/step - loss: 0.0373 - acc: 0.9919\n",
      "Epoch 308/400\n",
      "247/247 [==============================] - 0s 218us/step - loss: 0.0316 - acc: 0.9960\n",
      "Epoch 309/400\n",
      "247/247 [==============================] - 0s 212us/step - loss: 0.0321 - acc: 0.9960\n",
      "Epoch 310/400\n",
      "247/247 [==============================] - 0s 215us/step - loss: 0.0184 - acc: 1.0000\n",
      "Epoch 311/400\n",
      "247/247 [==============================] - 0s 209us/step - loss: 0.0299 - acc: 0.9960\n",
      "Epoch 312/400\n",
      "247/247 [==============================] - 0s 229us/step - loss: 0.0526 - acc: 0.9757\n",
      "Epoch 313/400\n",
      "247/247 [==============================] - 0s 244us/step - loss: 0.0341 - acc: 0.9960\n",
      "Epoch 314/400\n",
      "247/247 [==============================] - 0s 219us/step - loss: 0.0456 - acc: 0.9838\n",
      "Epoch 315/400\n",
      "247/247 [==============================] - 0s 219us/step - loss: 0.0352 - acc: 0.9919\n",
      "Epoch 316/400\n",
      "247/247 [==============================] - 0s 220us/step - loss: 0.0307 - acc: 0.9919\n",
      "Epoch 317/400\n",
      "247/247 [==============================] - 0s 229us/step - loss: 0.0400 - acc: 0.9960\n",
      "Epoch 318/400\n",
      "247/247 [==============================] - 0s 226us/step - loss: 0.0452 - acc: 0.9919\n",
      "Epoch 319/400\n",
      "247/247 [==============================] - 0s 222us/step - loss: 0.0331 - acc: 0.9879\n",
      "Epoch 320/400\n",
      "247/247 [==============================] - 0s 221us/step - loss: 0.0363 - acc: 0.9919\n",
      "Epoch 321/400\n",
      "247/247 [==============================] - 0s 234us/step - loss: 0.0299 - acc: 0.9919\n",
      "Epoch 322/400\n",
      "247/247 [==============================] - 0s 222us/step - loss: 0.0297 - acc: 1.0000\n",
      "Epoch 323/400\n",
      "247/247 [==============================] - 0s 228us/step - loss: 0.0223 - acc: 1.0000\n",
      "Epoch 324/400\n",
      "247/247 [==============================] - 0s 220us/step - loss: 0.0474 - acc: 0.9838\n",
      "Epoch 325/400\n",
      "247/247 [==============================] - 0s 214us/step - loss: 0.0309 - acc: 0.9960\n",
      "Epoch 326/400\n",
      "247/247 [==============================] - 0s 219us/step - loss: 0.0396 - acc: 0.9838\n",
      "Epoch 327/400\n",
      "247/247 [==============================] - 0s 219us/step - loss: 0.0383 - acc: 0.9879\n",
      "Epoch 328/400\n",
      "247/247 [==============================] - 0s 216us/step - loss: 0.0349 - acc: 0.9960\n",
      "Epoch 329/400\n",
      "247/247 [==============================] - 0s 221us/step - loss: 0.0380 - acc: 1.0000\n",
      "Epoch 330/400\n",
      "247/247 [==============================] - 0s 222us/step - loss: 0.0288 - acc: 1.0000\n",
      "Epoch 331/400\n",
      "247/247 [==============================] - 0s 215us/step - loss: 0.0177 - acc: 1.0000\n",
      "Epoch 332/400\n",
      "247/247 [==============================] - 0s 214us/step - loss: 0.0520 - acc: 0.9838\n",
      "Epoch 333/400\n",
      "247/247 [==============================] - 0s 218us/step - loss: 0.0474 - acc: 0.9838\n",
      "Epoch 334/400\n",
      "247/247 [==============================] - 0s 221us/step - loss: 0.0445 - acc: 0.9919\n",
      "Epoch 335/400\n",
      "247/247 [==============================] - 0s 249us/step - loss: 0.0333 - acc: 0.9919\n",
      "Epoch 336/400\n",
      "247/247 [==============================] - 0s 227us/step - loss: 0.0384 - acc: 0.9879\n",
      "Epoch 337/400\n",
      "247/247 [==============================] - 0s 218us/step - loss: 0.0267 - acc: 0.9960\n",
      "Epoch 338/400\n",
      "247/247 [==============================] - 0s 220us/step - loss: 0.0284 - acc: 0.9960\n",
      "Epoch 339/400\n",
      "247/247 [==============================] - 0s 219us/step - loss: 0.0168 - acc: 1.0000\n",
      "Epoch 340/400\n",
      "247/247 [==============================] - 0s 301us/step - loss: 0.0233 - acc: 1.0000\n",
      "Epoch 341/400\n",
      "247/247 [==============================] - 0s 221us/step - loss: 0.0118 - acc: 1.0000\n",
      "Epoch 342/400\n",
      "247/247 [==============================] - 0s 246us/step - loss: 0.0278 - acc: 0.9960\n",
      "Epoch 343/400\n",
      "247/247 [==============================] - 0s 251us/step - loss: 0.0291 - acc: 0.9960\n",
      "Epoch 344/400\n",
      "247/247 [==============================] - 0s 254us/step - loss: 0.0343 - acc: 0.9919\n",
      "Epoch 345/400\n",
      "247/247 [==============================] - 0s 242us/step - loss: 0.0205 - acc: 1.0000\n",
      "Epoch 346/400\n",
      "247/247 [==============================] - 0s 246us/step - loss: 0.0298 - acc: 0.9960\n",
      "Epoch 347/400\n",
      "247/247 [==============================] - 0s 244us/step - loss: 0.0271 - acc: 0.9919\n",
      "Epoch 348/400\n",
      "247/247 [==============================] - 0s 215us/step - loss: 0.0339 - acc: 0.9919\n",
      "Epoch 349/400\n",
      "247/247 [==============================] - 0s 233us/step - loss: 0.0251 - acc: 0.9960\n",
      "Epoch 350/400\n",
      "247/247 [==============================] - 0s 224us/step - loss: 0.0263 - acc: 0.9960\n",
      "Epoch 351/400\n",
      "247/247 [==============================] - 0s 219us/step - loss: 0.0532 - acc: 0.9838\n",
      "Epoch 352/400\n",
      "247/247 [==============================] - 0s 223us/step - loss: 0.0181 - acc: 1.0000\n",
      "Epoch 353/400\n",
      "247/247 [==============================] - 0s 219us/step - loss: 0.0444 - acc: 0.9879\n",
      "Epoch 354/400\n",
      "247/247 [==============================] - 0s 213us/step - loss: 0.0281 - acc: 0.9879\n",
      "Epoch 355/400\n",
      "247/247 [==============================] - 0s 225us/step - loss: 0.0395 - acc: 0.9879\n",
      "Epoch 356/400\n",
      "247/247 [==============================] - 0s 220us/step - loss: 0.0265 - acc: 0.9960\n",
      "Epoch 357/400\n",
      "247/247 [==============================] - 0s 215us/step - loss: 0.0301 - acc: 0.9960\n",
      "Epoch 358/400\n",
      "247/247 [==============================] - 0s 221us/step - loss: 0.0442 - acc: 0.9838\n",
      "Epoch 359/400\n",
      "247/247 [==============================] - 0s 253us/step - loss: 0.0355 - acc: 0.9919\n",
      "Epoch 360/400\n",
      "247/247 [==============================] - 0s 236us/step - loss: 0.0300 - acc: 0.9960\n",
      "Epoch 361/400\n",
      "247/247 [==============================] - 0s 229us/step - loss: 0.0313 - acc: 0.9960\n",
      "Epoch 362/400\n",
      "247/247 [==============================] - 0s 225us/step - loss: 0.0220 - acc: 0.9960\n",
      "Epoch 363/400\n",
      "247/247 [==============================] - 0s 223us/step - loss: 0.0221 - acc: 0.9960\n",
      "Epoch 364/400\n",
      "247/247 [==============================] - 0s 236us/step - loss: 0.0266 - acc: 1.0000\n",
      "Epoch 365/400\n",
      "247/247 [==============================] - 0s 227us/step - loss: 0.0325 - acc: 0.9919\n",
      "Epoch 366/400\n",
      "247/247 [==============================] - 0s 223us/step - loss: 0.0235 - acc: 0.9960\n",
      "Epoch 367/400\n",
      "247/247 [==============================] - 0s 224us/step - loss: 0.0245 - acc: 0.9960\n",
      "Epoch 368/400\n",
      "247/247 [==============================] - 0s 220us/step - loss: 0.0220 - acc: 1.0000\n",
      "Epoch 369/400\n",
      "247/247 [==============================] - 0s 234us/step - loss: 0.0351 - acc: 0.9798\n",
      "Epoch 370/400\n",
      "247/247 [==============================] - 0s 241us/step - loss: 0.0215 - acc: 0.9960\n",
      "Epoch 371/400\n",
      "247/247 [==============================] - 0s 223us/step - loss: 0.0144 - acc: 1.0000\n",
      "Epoch 372/400\n",
      "247/247 [==============================] - 0s 231us/step - loss: 0.0436 - acc: 0.9879\n",
      "Epoch 373/400\n",
      "247/247 [==============================] - 0s 227us/step - loss: 0.0210 - acc: 0.9960\n",
      "Epoch 374/400\n",
      "247/247 [==============================] - 0s 235us/step - loss: 0.0216 - acc: 0.9960\n",
      "Epoch 375/400\n",
      "247/247 [==============================] - 0s 234us/step - loss: 0.0212 - acc: 0.9960\n",
      "Epoch 376/400\n",
      "247/247 [==============================] - 0s 240us/step - loss: 0.0440 - acc: 0.9919\n",
      "Epoch 377/400\n",
      "247/247 [==============================] - 0s 234us/step - loss: 0.0142 - acc: 1.0000\n",
      "Epoch 378/400\n",
      "247/247 [==============================] - 0s 228us/step - loss: 0.0320 - acc: 0.9919\n",
      "Epoch 379/400\n",
      "247/247 [==============================] - 0s 228us/step - loss: 0.0315 - acc: 0.9919\n",
      "Epoch 380/400\n",
      "247/247 [==============================] - 0s 232us/step - loss: 0.0429 - acc: 0.9960\n",
      "Epoch 381/400\n",
      "247/247 [==============================] - 0s 225us/step - loss: 0.0160 - acc: 1.0000\n",
      "Epoch 382/400\n",
      "247/247 [==============================] - 0s 220us/step - loss: 0.0376 - acc: 0.9879\n",
      "Epoch 383/400\n",
      "247/247 [==============================] - 0s 223us/step - loss: 0.0395 - acc: 0.9879\n",
      "Epoch 384/400\n",
      "247/247 [==============================] - 0s 228us/step - loss: 0.0252 - acc: 0.9960\n",
      "Epoch 385/400\n",
      "247/247 [==============================] - 0s 229us/step - loss: 0.0376 - acc: 0.9919\n",
      "Epoch 386/400\n",
      "247/247 [==============================] - 0s 221us/step - loss: 0.0237 - acc: 0.9919\n",
      "Epoch 387/400\n",
      "247/247 [==============================] - 0s 218us/step - loss: 0.0118 - acc: 1.0000\n",
      "Epoch 388/400\n",
      "247/247 [==============================] - 0s 211us/step - loss: 0.0261 - acc: 0.9960\n",
      "Epoch 389/400\n",
      "247/247 [==============================] - 0s 221us/step - loss: 0.0099 - acc: 1.0000\n",
      "Epoch 390/400\n",
      "247/247 [==============================] - 0s 227us/step - loss: 0.0198 - acc: 0.9960\n",
      "Epoch 391/400\n",
      "247/247 [==============================] - 0s 228us/step - loss: 0.0170 - acc: 1.0000\n",
      "Epoch 392/400\n",
      "247/247 [==============================] - 0s 227us/step - loss: 0.0616 - acc: 0.9717\n",
      "Epoch 393/400\n",
      "247/247 [==============================] - 0s 222us/step - loss: 0.0494 - acc: 0.9919\n",
      "Epoch 394/400\n",
      "247/247 [==============================] - 0s 230us/step - loss: 0.0351 - acc: 0.9879\n",
      "Epoch 395/400\n",
      "247/247 [==============================] - 0s 218us/step - loss: 0.0255 - acc: 0.9960\n",
      "Epoch 396/400\n",
      "247/247 [==============================] - 0s 219us/step - loss: 0.0280 - acc: 0.9919\n",
      "Epoch 397/400\n",
      "247/247 [==============================] - 0s 214us/step - loss: 0.0152 - acc: 1.0000\n",
      "Epoch 398/400\n",
      "247/247 [==============================] - 0s 232us/step - loss: 0.0303 - acc: 0.9919\n",
      "Epoch 399/400\n",
      "247/247 [==============================] - 0s 224us/step - loss: 0.0274 - acc: 0.9879\n",
      "Epoch 400/400\n",
      "247/247 [==============================] - 0s 220us/step - loss: 0.0299 - acc: 0.9879\n"
     ]
    },
    {
     "name": "stderr",
     "output_type": "stream",
     "text": [
      "INFO:rasa_core.policies.keras_policy:Done fitting keras policy model\n"
     ]
    }
   ],
   "source": [
    "# loading our neatly defined training dialogues\n",
    "training_data = agent.load_data('my_stories.md')\n",
    "agent.train(\n",
    "        training_data,\n",
    "        validation_split=0.0,\n",
    "        epochs=400\n",
    ")"
   ]
  },
  {
   "cell_type": "code",
   "execution_count": 11,
   "metadata": {
    "colab": {
     "autoexec": {
      "startup": false,
      "wait_interval": 0
     },
     "base_uri": "https://localhost:8080/",
     "height": 51
    },
    "colab_type": "code",
    "executionInfo": {
     "elapsed": 1837,
     "status": "ok",
     "timestamp": 1532503413896,
     "user": {
      "displayName": "Jesiel Charis",
      "photoUrl": "https://lh3.googleusercontent.com/a/default-user=s128",
      "userId": "117700027378170168700"
     },
     "user_tz": -180
    },
    "id": "UiDCDaUWF6gS",
    "outputId": "6ce34349-3c90-4431-d991-ada228db2c56"
   },
   "outputs": [
    {
     "name": "stderr",
     "output_type": "stream",
     "text": [
      "INFO:rasa_core.agent:Model directory models/dialogue exists and contains old model files. All files will be overwritten.\n",
      "INFO:rasa_core.agent:Persisted model to '/content/models/dialogue'\n"
     ]
    }
   ],
   "source": [
    "# Saving Our Dialogue Models\n",
    "agent.persist('models/dialogue')"
   ]
  },
  {
   "cell_type": "markdown",
   "metadata": {
    "colab_type": "text",
    "id": "VTfe-USzF6gd"
   },
   "source": [
    "#### Starting up the bot\n",
    "+ rasa_core\n",
    "+ agent\n",
    "+ dialogue model"
   ]
  },
  {
   "cell_type": "markdown",
   "metadata": {
    "colab_type": "text",
    "id": "yqo8B7eLF6gh"
   },
   "source": [
    "The default 'Loader' for 'load(stream)' without further arguments can be unsafe.\n",
    "Use 'load(stream, Loader=ruamel.yaml.Loader)' explicitly if that is OK.\n",
    "Alternatively include the following in your code:\n",
    "\n",
    "  import warnings\n",
    "  warnings.simplefilter('ignore', ruamel.yaml.error.UnsafeLoaderWarning)\n",
    "\n",
    "In most other cases you should consider using 'safe_load(stream)'\n",
    "  data = yaml.load(stream)"
   ]
  },
  {
   "cell_type": "code",
   "execution_count": 12,
   "metadata": {
    "colab": {
     "autoexec": {
      "startup": false,
      "wait_interval": 0
     },
     "base_uri": "https://localhost:8080/",
     "height": 187
    },
    "colab_type": "code",
    "executionInfo": {
     "elapsed": 1259,
     "status": "ok",
     "timestamp": 1532503447114,
     "user": {
      "displayName": "Jesiel Charis",
      "photoUrl": "https://lh3.googleusercontent.com/a/default-user=s128",
      "userId": "117700027378170168700"
     },
     "user_tz": -180
    },
    "id": "LQukfMYbF6go",
    "outputId": "ce77936f-651f-4f3b-8c2a-6c272f2d3220"
   },
   "outputs": [
    {
     "name": "stderr",
     "output_type": "stream",
     "text": [
      "/usr/local/lib/python3.6/dist-packages/pykwalify/core.py:99: UnsafeLoaderWarning: \n",
      "The default 'Loader' for 'load(stream)' without further arguments can be unsafe.\n",
      "Use 'load(stream, Loader=ruamel.yaml.Loader)' explicitly if that is OK.\n",
      "Alternatively include the following in your code:\n",
      "\n",
      "  import warnings\n",
      "  warnings.simplefilter('ignore', ruamel.yaml.error.UnsafeLoaderWarning)\n",
      "\n",
      "In most other cases you should consider using 'safe_load(stream)'\n",
      "  data = yaml.load(stream)\n"
     ]
    }
   ],
   "source": [
    "# Load Dialogue model into agent\n",
    "from rasa_core.agent import Agent\n",
    "agent = Agent.load('models/dialogue')\n",
    "\n",
    "# With NLU Trained data\n",
    "# agent = Agent.load('models/dialogue', interpreter=model_directory)"
   ]
  },
  {
   "cell_type": "markdown",
   "metadata": {
    "colab_type": "text",
    "id": "DfDC_yweF6gz"
   },
   "source": [
    "#### Practising or Talking to the bot"
   ]
  },
  {
   "cell_type": "code",
   "execution_count": 13,
   "metadata": {
    "colab": {
     "autoexec": {
      "startup": false,
      "wait_interval": 0
     },
     "base_uri": "https://localhost:8080/",
     "height": 221
    },
    "colab_type": "code",
    "executionInfo": {
     "elapsed": 70984,
     "status": "ok",
     "timestamp": 1532503533573,
     "user": {
      "displayName": "Jesiel Charis",
      "photoUrl": "https://lh3.googleusercontent.com/a/default-user=s128",
      "userId": "117700027378170168700"
     },
     "user_tz": -180
    },
    "id": "KA069DoUF6g1",
    "outputId": "ec967dc9-d07f-48bc-a276-5a2c4d0a826b"
   },
   "outputs": [
    {
     "name": "stdout",
     "output_type": "stream",
     "text": [
      "Your bot is ready to talk! Type your messages here or send 'stop'\n",
      "Hi\n",
      "Great carry on!\n",
      "It working\n",
      "I am not sure what you are aiming for.\n",
      "I want to buy a phone\n",
      "Great carry on!\n",
      "I need a phone\n",
      "I am not sure what you are aiming for.\n",
      "what is the weather?\n",
      "Great carry on!\n",
      "stop\n"
     ]
    }
   ],
   "source": [
    "print(\"Your bot is ready to talk! Type your messages here or send 'stop'\")\n",
    "while True:\n",
    "    a = input()\n",
    "    if a == 'stop':\n",
    "        break\n",
    "    responses = agent.handle_message(a)\n",
    "    for response in responses:\n",
    "        print(response[\"text\"])"
   ]
  },
  {
   "cell_type": "markdown",
   "metadata": {
    "colab": {
     "autoexec": {
      "startup": false,
      "wait_interval": 0
     }
    },
    "colab_type": "code",
    "id": "NzYIVuiCF6hD"
   },
   "source": [
    "## Training Our Bot with Rasa NLU"
   ]
  },
  {
   "cell_type": "markdown",
   "metadata": {
    "colab_type": "text",
    "id": "Yh5P7F0KVJRA"
   },
   "source": [
    "### Natural Language Understanding and Intent Classification"
   ]
  },
  {
   "cell_type": "code",
   "execution_count": null,
   "metadata": {
    "colab": {
     "autoexec": {
      "startup": false,
      "wait_interval": 0
     }
    },
    "colab_type": "code",
    "id": "TqIzBPiAF6hX"
   },
   "outputs": [],
   "source": [
    "# Loading our Packages\n",
    "from rasa_nlu.training_data import load_data\n",
    "from rasa_nlu.config import RasaNLUModelConfig\n",
    "from rasa_nlu.model import Trainer\n",
    "from rasa_nlu import config"
   ]
  },
  {
   "cell_type": "markdown",
   "metadata": {
    "colab_type": "text",
    "id": "KqmTJM-oF6hj"
   },
   "source": [
    "#### How our dataset can look like\n",
    "+ Describes what the messages mean/intention\n",
    "+ json\n",
    "+ md\n",
    "+ yml\n",
    "\n",
    "\n"
   ]
  },
  {
   "cell_type": "code",
   "execution_count": null,
   "metadata": {
    "colab": {
     "autoexec": {
      "startup": false,
      "wait_interval": 0
     }
    },
    "colab_type": "code",
    "id": "v58M_OHtF6hl"
   },
   "outputs": [],
   "source": [
    "## intent:intentname\n",
    "- examples\n",
    "- examples"
   ]
  },
  {
   "cell_type": "code",
   "execution_count": 15,
   "metadata": {
    "colab": {
     "autoexec": {
      "startup": false,
      "wait_interval": 0
     },
     "base_uri": "https://localhost:8080/",
     "height": 34
    },
    "colab_type": "code",
    "executionInfo": {
     "elapsed": 953,
     "status": "ok",
     "timestamp": 1532503591056,
     "user": {
      "displayName": "Jesiel Charis",
      "photoUrl": "https://lh3.googleusercontent.com/a/default-user=s128",
      "userId": "117700027378170168700"
     },
     "user_tz": -180
    },
    "id": "y1DRzLbjF6hv",
    "outputId": "92f765a5-0f47-4801-fdc4-d56390bf03e2"
   },
   "outputs": [
    {
     "name": "stdout",
     "output_type": "stream",
     "text": [
      "Writing 'nludataset_md' (str) to file 'nludataset.md'.\n"
     ]
    }
   ],
   "source": [
    "# Data Set\n",
    "nludataset_md = \"\"\"\n",
    "## intent:greet\n",
    "- hey\n",
    "- hello\n",
    "- hi\n",
    "- hello there\n",
    "- good morning\n",
    "- good evening\n",
    "- moin\n",
    "- hey there\n",
    "- let's go\n",
    "- hey dude\n",
    "- goodmorning\n",
    "- goodevening\n",
    "- good afternoon\n",
    "\n",
    "## intent:goodbye\n",
    "- cu\n",
    "- good by\n",
    "- cee you later\n",
    "- good night\n",
    "- good afternoon\n",
    "- bye\n",
    "- goodbye\n",
    "- have a nice day\n",
    "- see you around\n",
    "- bye bye\n",
    "- see you later\n",
    "\n",
    "## intent:mood_affirm\n",
    "- yes\n",
    "- indeed\n",
    "- of course\n",
    "- that sounds good\n",
    "- correct\n",
    "\n",
    "## intent:mood_deny\n",
    "- no\n",
    "- never\n",
    "- I don't think so\n",
    "- don't like that\n",
    "- no way\n",
    "- not really\n",
    "\n",
    "## intent:mood_great\n",
    "- perfect\n",
    "- very good\n",
    "- great\n",
    "- amazing\n",
    "- feeling like a king\n",
    "- wonderful\n",
    "- I am feeling very good\n",
    "- I am great\n",
    "- I am amazing\n",
    "- I am going to save the world\n",
    "- super\n",
    "- extremely good\n",
    "- so so perfect\n",
    "- so good\n",
    "- so perfect\n",
    "\n",
    "## intent:mood_unhappy\n",
    "- my day was horrible\n",
    "- I am sad\n",
    "- I don't feel very well\n",
    "- I am disappointed\n",
    "- super sad\n",
    "- I'm so sad\n",
    "- sad\n",
    "- very sad\n",
    "- unhappy\n",
    "- bad\n",
    "- very bad\n",
    "- awful\n",
    "- terrible\n",
    "- not so good\n",
    "- not very good\n",
    "- extremly sad\n",
    "- so saad\n",
    "- so sad\n",
    "\n",
    "## intent:purchase\n",
    "- I need to buy IPhone\n",
    "- I want to purchase some items\n",
    "- What product is that?\n",
    "- You need this watch.\n",
    "- How much that it cost?\n",
    "- He bought this house for $2000\n",
    "- She is selling it\n",
    "- I need to buy another\n",
    "- Can you make a request for the product\n",
    "- How much?\n",
    "- This is so expensive\n",
    "- It was very cheap\n",
    "- He is buying \n",
    "- You ordered for this\n",
    "- buy\n",
    "- sell\n",
    "- pay\n",
    "- purchase\n",
    "- what is the price\n",
    "- Tell me the price\n",
    "- Show me the product\n",
    "\n",
    "## intent:purchase_affirm\n",
    "- yes\n",
    "- yes I need to buy it\n",
    "- indeed I want to buy\n",
    "- of course\n",
    "- that sounds good\n",
    "- correct\n",
    "- I will take it\n",
    "\n",
    "## intent:purchase_deny\n",
    "- no I don't want it\n",
    "- never\n",
    "- I don't think so\n",
    "- don't like that\n",
    "- no way \n",
    "- not really\n",
    "- no\n",
    "\n",
    "\n",
    "## intent:inform\n",
    "- I need to buy IPhone\n",
    "- I want to purchase some items\n",
    "- What product is that?\n",
    "\n",
    "## intent:weather\n",
    "- I wonder what is the weather in Vilnius right now?\n",
    "- what is the weather?\n",
    "- Tell me the weather\n",
    "- Is the weather nice in Barcelona today\n",
    "- I am going to London today and I wonder what is the weather out there?\n",
    "- Show me the weather in Dublin, please\n",
    "- Tell me the weather in Vilnius\n",
    "\n",
    "\"\"\"\n",
    "\n",
    "%store nludataset_md > nludataset.md"
   ]
  },
  {
   "cell_type": "code",
   "execution_count": 16,
   "metadata": {
    "colab": {
     "autoexec": {
      "startup": false,
      "wait_interval": 0
     },
     "base_uri": "https://localhost:8080/",
     "height": 156
    },
    "colab_type": "code",
    "executionInfo": {
     "elapsed": 989,
     "status": "ok",
     "timestamp": 1532503601671,
     "user": {
      "displayName": "Jesiel Charis",
      "photoUrl": "https://lh3.googleusercontent.com/a/default-user=s128",
      "userId": "117700027378170168700"
     },
     "user_tz": -180
    },
    "id": "m6fYa0OVF6h4",
    "outputId": "d777e032-2d18-4283-f2d3-cd7c3813c425"
   },
   "outputs": [
    {
     "name": "stderr",
     "output_type": "stream",
     "text": [
      "INFO:rasa_nlu.training_data.loading:Training data format of nludataset.md is md\n",
      "INFO:rasa_nlu.training_data.training_data:Training data stats: \n",
      "\t- intent examples: 113 (11 distinct intents)\n",
      "\t- Found intents: 'mood_great', 'mood_unhappy', 'greet', 'purchase', 'purchase_deny', 'goodbye', 'purchase_affirm', 'inform', 'mood_deny', 'weather', 'mood_affirm'\n",
      "\t- entity examples: 0 (0 distinct entities)\n",
      "\t- found entities: \n",
      "\n"
     ]
    }
   ],
   "source": [
    "# Loading Dataset\n",
    "# Dataset can be in json or md\n",
    "training_data = load_data('nludataset.md')\n"
   ]
  },
  {
   "cell_type": "code",
   "execution_count": null,
   "metadata": {
    "colab": {
     "autoexec": {
      "startup": false,
      "wait_interval": 0
     }
    },
    "colab_type": "code",
    "id": "Jr-qIsiNQSMj"
   },
   "outputs": [],
   "source": [
    "!apt-get -qq install -y graphviz libgraphviz-dev pkg-config && pip install pygraphviz;\n",
    "!pip install rasa_nlu[spacy];\n",
    "!python -m spacy download en;"
   ]
  },
  {
   "cell_type": "markdown",
   "metadata": {
    "colab_type": "text",
    "id": "LdXJz2B9F6iE"
   },
   "source": [
    "#### Configuration File\n",
    "+ spacy as backend\n",
    "+ mitie as backend"
   ]
  },
  {
   "cell_type": "code",
   "execution_count": null,
   "metadata": {
    "colab": {
     "autoexec": {
      "startup": false,
      "wait_interval": 0
     }
    },
    "colab_type": "code",
    "id": "3R6czQE9QnQI"
   },
   "outputs": [],
   "source": [
    "# Load the Rasa_nlu Packages\n",
    "from rasa_nlu.training_data import load_data\n",
    "from rasa_nlu.config import RasaNLUModelConfig\n",
    "from rasa_nlu.model import Trainer\n",
    "\n"
   ]
  },
  {
   "cell_type": "markdown",
   "metadata": {
    "colab_type": "text",
    "id": "jcHwRmtUQ5sp"
   },
   "source": [
    "#### Load and Configure our Backend with spaCy"
   ]
  },
  {
   "cell_type": "code",
   "execution_count": 17,
   "metadata": {
    "colab": {
     "autoexec": {
      "startup": false,
      "wait_interval": 0
     },
     "base_uri": "https://localhost:8080/",
     "height": 156
    },
    "colab_type": "code",
    "executionInfo": {
     "elapsed": 933,
     "status": "ok",
     "timestamp": 1532503636234,
     "user": {
      "displayName": "Jesiel Charis",
      "photoUrl": "https://lh3.googleusercontent.com/a/default-user=s128",
      "userId": "117700027378170168700"
     },
     "user_tz": -180
    },
    "id": "LwXkaztYQxxS",
    "outputId": "c87eec2f-8ebd-4e65-fa0c-48f8f98d8321"
   },
   "outputs": [
    {
     "name": "stderr",
     "output_type": "stream",
     "text": [
      "INFO:rasa_nlu.training_data.loading:Training data format of nludataset.md is md\n",
      "INFO:rasa_nlu.training_data.training_data:Training data stats: \n",
      "\t- intent examples: 113 (11 distinct intents)\n",
      "\t- Found intents: 'mood_great', 'mood_unhappy', 'greet', 'purchase', 'purchase_deny', 'goodbye', 'purchase_affirm', 'inform', 'mood_deny', 'weather', 'mood_affirm'\n",
      "\t- entity examples: 0 (0 distinct entities)\n",
      "\t- found entities: \n",
      "\n"
     ]
    }
   ],
   "source": [
    "\n",
    "training_data = load_data('nludataset.md')\n",
    "pipeline = [{\"name\": \"nlp_spacy\"}, \n",
    "            {\"name\": \"tokenizer_spacy\"}, \n",
    "            {\"name\": \"intent_featurizer_spacy\"},  \n",
    "            {\"name\": \"intent_classifier_sklearn\"}]\n"
   ]
  },
  {
   "cell_type": "code",
   "execution_count": 18,
   "metadata": {
    "colab": {
     "autoexec": {
      "startup": false,
      "wait_interval": 0
     },
     "base_uri": "https://localhost:8080/",
     "height": 238
    },
    "colab_type": "code",
    "executionInfo": {
     "elapsed": 4085,
     "status": "ok",
     "timestamp": 1532503648129,
     "user": {
      "displayName": "Jesiel Charis",
      "photoUrl": "https://lh3.googleusercontent.com/a/default-user=s128",
      "userId": "117700027378170168700"
     },
     "user_tz": -180
    },
    "id": "ITmioUy1RUpT",
    "outputId": "8903eb2e-efda-49d9-bc0b-1b36d740c170"
   },
   "outputs": [
    {
     "name": "stderr",
     "output_type": "stream",
     "text": [
      "INFO:rasa_nlu.utils.spacy_utils:Trying to load spacy model with name 'en'\n",
      "INFO:rasa_nlu.components:Added 'nlp_spacy' to component cache. Key 'nlp_spacy-en'.\n",
      "INFO:rasa_nlu.model:Starting to train component nlp_spacy\n",
      "INFO:rasa_nlu.model:Finished training component.\n",
      "INFO:rasa_nlu.model:Starting to train component tokenizer_spacy\n",
      "INFO:rasa_nlu.model:Finished training component.\n",
      "INFO:rasa_nlu.model:Starting to train component intent_featurizer_spacy\n",
      "INFO:rasa_nlu.model:Finished training component.\n",
      "INFO:rasa_nlu.model:Starting to train component intent_classifier_sklearn\n"
     ]
    },
    {
     "name": "stdout",
     "output_type": "stream",
     "text": [
      "Fitting 2 folds for each of 6 candidates, totalling 12 fits\n"
     ]
    },
    {
     "name": "stderr",
     "output_type": "stream",
     "text": [
      "[Parallel(n_jobs=1)]: Done  12 out of  12 | elapsed:    0.3s finished\n",
      "INFO:rasa_nlu.model:Finished training component.\n",
      "INFO:rasa_nlu.model:Successfully saved model into '/content/projects/default/default/model_20180725-072726'\n"
     ]
    }
   ],
   "source": [
    "trainer = Trainer(RasaNLUModelConfig({\"pipeline\": pipeline}))\n",
    "interpreter = trainer.train(training_data)\n",
    "model_directory = trainer.persist('./projects/default/')"
   ]
  },
  {
   "cell_type": "code",
   "execution_count": 19,
   "metadata": {
    "colab": {
     "autoexec": {
      "startup": false,
      "wait_interval": 0
     },
     "base_uri": "https://localhost:8080/",
     "height": 204
    },
    "colab_type": "code",
    "executionInfo": {
     "elapsed": 2478,
     "status": "ok",
     "timestamp": 1532503659709,
     "user": {
      "displayName": "Jesiel Charis",
      "photoUrl": "https://lh3.googleusercontent.com/a/default-user=s128",
      "userId": "117700027378170168700"
     },
     "user_tz": -180
    },
    "id": "yJGIOPiuRc1O",
    "outputId": "2da8c1cd-9ad9-4451-f6bd-d854e89b3387"
   },
   "outputs": [
    {
     "name": "stderr",
     "output_type": "stream",
     "text": [
      "/usr/local/lib/python3.6/dist-packages/pykwalify/core.py:99: UnsafeLoaderWarning: \n",
      "The default 'Loader' for 'load(stream)' without further arguments can be unsafe.\n",
      "Use 'load(stream, Loader=ruamel.yaml.Loader)' explicitly if that is OK.\n",
      "Alternatively include the following in your code:\n",
      "\n",
      "  import warnings\n",
      "  warnings.simplefilter('ignore', ruamel.yaml.error.UnsafeLoaderWarning)\n",
      "\n",
      "In most other cases you should consider using 'safe_load(stream)'\n",
      "  data = yaml.load(stream)\n",
      "INFO:rasa_nlu.components:Added 'nlp_spacy' to component cache. Key 'nlp_spacy-en'.\n"
     ]
    }
   ],
   "source": [
    "from rasa_core.agent import Agent\n",
    "agent = Agent.load('models/dialogue', interpreter=model_directory)"
   ]
  },
  {
   "cell_type": "markdown",
   "metadata": {
    "colab_type": "text",
    "id": "QMVilHYURpKo"
   },
   "source": [
    " #### Lets Chat"
   ]
  },
  {
   "cell_type": "code",
   "execution_count": 21,
   "metadata": {
    "colab": {
     "autoexec": {
      "startup": false,
      "wait_interval": 0
     },
     "base_uri": "https://localhost:8080/",
     "height": 697
    },
    "colab_type": "code",
    "executionInfo": {
     "elapsed": 730943,
     "status": "ok",
     "timestamp": 1532504453495,
     "user": {
      "displayName": "Jesiel Charis",
      "photoUrl": "https://lh3.googleusercontent.com/a/default-user=s128",
      "userId": "117700027378170168700"
     },
     "user_tz": -180
    },
    "id": "P_hQbAU6Rioi",
    "outputId": "94ab71ce-3c59-4417-d2a5-0f8e8d6a4285"
   },
   "outputs": [
    {
     "name": "stdout",
     "output_type": "stream",
     "text": [
      "Your bot is ready to talk! Type your messages here or send 'stop'\n",
      "Hi\n",
      "Hey! How are you?\n",
      "Good\n",
      "Great carry on!\n",
      "I need a phone\n",
      "text:'In what location?'\n",
      "London\n",
      "You want to buy this?\n",
      "yes\n",
      "Hi How are you?\n",
      "Good\n",
      "Great carry on!\n",
      "I need a Iphone\n",
      "text:'In which place?'\n",
      "Paris\n",
      "We only have this?\n",
      "how much\n",
      "Here is something to cheer you up:\n",
      "Image: https://i.imgur.com/nGF1K8f.jpg\n",
      "Did that help you?\n",
      "no\n",
      "Great carry on!\n",
      "I need to buy IPhone\n",
      "Great carry on!\n",
      "I need another\n",
      "A bientot \n",
      "What product is that\n",
      "How many do you want to buy?\n",
      "12\n",
      "Talk to you later\n",
      "i need a phone\n",
      "Great carry on!\n",
      "I need a new phone\n",
      "How do you mean? Can you clarify \n",
      "In Iphone\n",
      "What item do you want to buy?\n",
      "Iphone 6\n",
      "Bye\n",
      "stop\n"
     ]
    }
   ],
   "source": [
    "print(\"Your bot is ready to talk! Type your messages here or send 'stop'\")\n",
    "while True:\n",
    "    a = input()\n",
    "    if a == 'stop':\n",
    "        break\n",
    "    responses = agent.handle_message(a)\n",
    "    for response in responses:\n",
    "        print(response[\"text\"])"
   ]
  },
  {
   "cell_type": "code",
   "execution_count": null,
   "metadata": {
    "colab": {
     "autoexec": {
      "startup": false,
      "wait_interval": 0
     }
    },
    "colab_type": "code",
    "id": "tido-1lBSo0E"
   },
   "outputs": [],
   "source": [
    "import platform\n",
    "platform.python_version()"
   ]
  },
  {
   "cell_type": "markdown",
   "metadata": {
    "colab_type": "text",
    "id": "BW4strAnF6lA"
   },
   "source": [
    "## Intent Classification With Rasa_nlu"
   ]
  },
  {
   "cell_type": "code",
   "execution_count": null,
   "metadata": {
    "colab": {
     "autoexec": {
      "startup": false,
      "wait_interval": 0
     }
    },
    "colab_type": "code",
    "id": "cadIx3ohF6lD"
   },
   "outputs": [],
   "source": [
    "from rasa_nlu.training_data import load_data\n",
    "from rasa_nlu.config import RasaNLUModelConfig\n",
    "from rasa_nlu.model import Trainer\n",
    "from rasa_nlu import config"
   ]
  },
  {
   "cell_type": "code",
   "execution_count": null,
   "metadata": {
    "colab": {
     "autoexec": {
      "startup": false,
      "wait_interval": 0
     }
    },
    "colab_type": "code",
    "id": "Tiir3YTtF6lJ"
   },
   "outputs": [],
   "source": [
    "# Loading our Dataset\n",
    "# Dataset can be in json,md\n",
    "training_data = load_data('nludataset.md')"
   ]
  },
  {
   "cell_type": "code",
   "execution_count": null,
   "metadata": {
    "colab": {
     "autoexec": {
      "startup": false,
      "wait_interval": 0
     }
    },
    "colab_type": "code",
    "id": "Z3y7jRAnF6lS"
   },
   "outputs": [],
   "source": [
    "# Setting Up our Training Configuration with Spacy as Backend\n",
    "trainer = Trainer(config.load(\"config_spacy.yml\"))\n"
   ]
  },
  {
   "cell_type": "code",
   "execution_count": null,
   "metadata": {
    "colab": {
     "autoexec": {
      "startup": false,
      "wait_interval": 0
     }
    },
    "colab_type": "code",
    "id": "9Ni1EEmfF6lr"
   },
   "outputs": [],
   "source": [
    "# Model Building\n",
    "model_directory = trainer.persist('./projects/default/')"
   ]
  },
  {
   "cell_type": "code",
   "execution_count": null,
   "metadata": {
    "colab": {
     "autoexec": {
      "startup": false,
      "wait_interval": 0
     }
    },
    "colab_type": "code",
    "id": "9poIt5RKF6l5"
   },
   "outputs": [],
   "source": [
    "# Prediction\n",
    "from rasa_nlu.model import Metadata, Interpreter"
   ]
  },
  {
   "cell_type": "code",
   "execution_count": null,
   "metadata": {
    "colab": {
     "autoexec": {
      "startup": false,
      "wait_interval": 0
     }
    },
    "colab_type": "code",
    "id": "80uOlY4wF6mK"
   },
   "outputs": [],
   "source": [
    "# where `model_directory points to the folder the model is persisted in\n",
    "interpreter = Interpreter.load(model_directory)"
   ]
  },
  {
   "cell_type": "code",
   "execution_count": null,
   "metadata": {
    "colab": {
     "autoexec": {
      "startup": false,
      "wait_interval": 0
     }
    },
    "colab_type": "code",
    "id": "ZtAmTNtOF6mY"
   },
   "outputs": [],
   "source": [
    "# Predicting\n",
    "interpreter.parse(u\"I am looking for an African spot to eat\")"
   ]
  },
  {
   "cell_type": "code",
   "execution_count": null,
   "metadata": {
    "colab": {
     "autoexec": {
      "startup": false,
      "wait_interval": 0
     }
    },
    "colab_type": "code",
    "id": "eKmVKYzVF6mw"
   },
   "outputs": [],
   "source": [
    "interpreter.parse(u\"Good morning everyone\")"
   ]
  },
  {
   "cell_type": "markdown",
   "metadata": {
    "colab_type": "text",
    "id": "5zKh63SlF6nG"
   },
   "source": [
    "### Rasa GUI \n",
    "##### Online\n",
    "+ https://rasahq.github.io/rasa-nlu-trainer/\n",
    "##### Offline\n",
    "+ npm i -g rasa-nlu-trainer\n"
   ]
  },
  {
   "cell_type": "markdown",
   "metadata": {
    "colab_type": "text",
    "id": "M5Hub6t-F6nJ"
   },
   "source": [
    "#### Building your dataset\n",
    "+ rasa-nlu-trainer gui\n",
    " - - Requirement\n",
    "  - - - nodejs npm + browser(Chrome)\n",
    "  - - - - + npm install -g rasa-nlu-trainer\n",
    "  - - - fileformat in json\n",
    "+ DIY"
   ]
  },
  {
   "cell_type": "markdown",
   "metadata": {
    "colab_type": "text",
    "id": "PD7MpPAUF6nL"
   },
   "source": [
    "#### Basic Format of the Dataset.Json\n",
    "###### Most Basic Format \n",
    "{\n",
    "  \"rasa_nlu_data\": {}\n",
    "}\n",
    "\n",
    "\n",
    "#### Simple Format\n",
    "{\n",
    "  \"rasa_nlu_data\": {\n",
    "    \"common_examples\": []\n",
    "  }\n",
    "}"
   ]
  },
  {
   "cell_type": "markdown",
   "metadata": {
    "colab_type": "text",
    "id": "0jyhb7w_F6nO"
   },
   "source": [
    "#### Evaluating Model"
   ]
  },
  {
   "cell_type": "code",
   "execution_count": null,
   "metadata": {
    "colab": {
     "autoexec": {
      "startup": false,
      "wait_interval": 0
     }
    },
    "colab_type": "code",
    "id": "PqQsvURuF6nQ"
   },
   "outputs": [],
   "source": [
    "# Import from rasa_nlu\n",
    "from rasa_nlu.evaluate import run_evaluation\n",
    "\n",
    "run_evaluation(\"sampledatasetrasa.json\", model_directory)"
   ]
  },
  {
   "cell_type": "code",
   "execution_count": null,
   "metadata": {
    "colab": {
     "autoexec": {
      "startup": false,
      "wait_interval": 0
     }
    },
    "colab_type": "code",
    "id": "dvIgCImqF6nc"
   },
   "outputs": [],
   "source": []
  },
  {
   "cell_type": "markdown",
   "metadata": {
    "colab_type": "text",
    "id": "rZsySIG-F6nt"
   },
   "source": [
    "#### Adding Custom API functions"
   ]
  },
  {
   "cell_type": "code",
   "execution_count": null,
   "metadata": {
    "colab": {
     "autoexec": {
      "startup": false,
      "wait_interval": 0
     }
    },
    "colab_type": "code",
    "id": "J3ri0v-6F6nv"
   },
   "outputs": [],
   "source": [
    "from rasa_core.actions import Action\n",
    "from rasa_core.events import SlotSet\n",
    "\n",
    "import requests\n",
    "# from __future__ import absolute_import\n",
    "# from __future__ import division\n",
    "# from __future__ import unicode_literals\n",
    "\n",
    "class ApiAction(Action):\n",
    "    def name(self):\n",
    "        return \"action_retrieve_image\"\n",
    "\n",
    "    def run(self, dispatcher, tracker, domain):\n",
    "        dispatcher.utter_message(\"looking for a good img\")\n",
    "        url = \"https://picsum.photos/200/300/?random\"\n",
    "        return [SlotSet(\"img_api_response\", url)]\n",
    "    \n",
    "class ActionWeather(Action):\n",
    "    def name(self):\n",
    "        return 'action_weather'\n",
    "\n",
    "    def run(self, dispatcher, tracker, domain):\n",
    "        from apixu.client import ApixuClient\n",
    "        api_key = '...' #your apixu key\n",
    "        client = ApixuClient(api_key)\n",
    "        \n",
    "        loc = tracker.get_slot('location')\n",
    "        current = client.getCurrentWeather(q=loc)\n",
    "        \n",
    "        country = current['location']['country']\n",
    "        city = current['location']['name']\n",
    "        condition = current['current']['condition']['text']\n",
    "        temperature_c = current['current']['temp_c']\n",
    "        humidity = current['current']['humidity']\n",
    "        wind_mph = current['current']['wind_mph']\n",
    "\n",
    "        response = \"\"\"It is currently {} in {} at the moment. The temperature is {} degrees, the humidity is {}% and the wind speed is {} mph.\"\"\".format(condition, city, temperature_c, humidity, wind_mph)\n",
    "        dispatcher.utter_message(response)\n",
    "        return [SlotSet('location',loc)]\n"
   ]
  },
  {
   "cell_type": "markdown",
   "metadata": {
    "colab_type": "text",
    "id": "d-EhG6WaF6n3"
   },
   "source": [
    "### Visualizing The Dialogue"
   ]
  },
  {
   "cell_type": "code",
   "execution_count": 22,
   "metadata": {
    "colab": {
     "autoexec": {
      "startup": false,
      "wait_interval": 0
     },
     "base_uri": "https://localhost:8080/",
     "height": 1031
    },
    "colab_type": "code",
    "executionInfo": {
     "elapsed": 2265,
     "status": "ok",
     "timestamp": 1532504487170,
     "user": {
      "displayName": "Jesiel Charis",
      "photoUrl": "https://lh3.googleusercontent.com/a/default-user=s128",
      "userId": "117700027378170168700"
     },
     "user_tz": -180
    },
    "id": "E_HSk8WJF6n6",
    "outputId": "31861785-750a-46ef-ee5a-7c2eeb75a3dc"
   },
   "outputs": [
    {
     "name": "stderr",
     "output_type": "stream",
     "text": [
      "/usr/local/lib/python3.6/dist-packages/pykwalify/core.py:99: UnsafeLoaderWarning: \n",
      "The default 'Loader' for 'load(stream)' without further arguments can be unsafe.\n",
      "Use 'load(stream, Loader=ruamel.yaml.Loader)' explicitly if that is OK.\n",
      "Alternatively include the following in your code:\n",
      "\n",
      "  import warnings\n",
      "  warnings.simplefilter('ignore', ruamel.yaml.error.UnsafeLoaderWarning)\n",
      "\n",
      "In most other cases you should consider using 'safe_load(stream)'\n",
      "  data = yaml.load(stream)\n",
      "Processed Story Blocks: 100%|██████████| 5/5 [00:00<00:00, 175.29it/s, # trackers=1]\n"
     ]
    },
    {
     "data": {
      "image/png": "iVBORw0KGgoAAAANSUhEUgAAArEAAAM7CAYAAABdhsgnAAAABmJLR0QA/wD/AP+gvaeTAAAgAElE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\nIYQQxY4Z4KV1CCGEEEIIIfLh5P8HUXcogR06sbsAAAAASUVORK5CYII=\n",
      "text/plain": [
       "<IPython.core.display.Image object>"
      ]
     },
     "execution_count": 22,
     "metadata": {
      "tags": []
     },
     "output_type": "execute_result"
    }
   ],
   "source": [
    "from rasa_core.agent import Agent\n",
    "from IPython.display import Image\n",
    "\n",
    "agent = Agent.load('models/dialogue')\n",
    "agent.visualize(\"stories.md\", \"story_graph.png\", max_history=2)\n",
    "Image(filename=\"story_graph.png\")"
   ]
  },
  {
   "cell_type": "code",
   "execution_count": null,
   "metadata": {
    "colab": {
     "autoexec": {
      "startup": false,
      "wait_interval": 0
     }
    },
    "colab_type": "code",
    "id": "ucZueYRxYqh_"
   },
   "outputs": [],
   "source": []
  },
  {
   "cell_type": "code",
   "execution_count": null,
   "metadata": {},
   "outputs": [],
   "source": [
    "### Jesse JCharis\n",
    "# J-Security\n",
    "# Jesus Saves @JCharisTech"
   ]
  }
 ],
 "metadata": {
  "colab": {
   "default_view": {},
   "name": "Colab-Rasa NLU Tutorials.ipynb",
   "provenance": [],
   "version": "0.3.2",
   "views": {}
  },
  "kernelspec": {
   "display_name": "Python 3",
   "language": "python",
   "name": "python3"
  },
  "language_info": {
   "codemirror_mode": {
    "name": "ipython",
    "version": 3
   },
   "file_extension": ".py",
   "mimetype": "text/x-python",
   "name": "python",
   "nbconvert_exporter": "python",
   "pygments_lexer": "ipython3",
   "version": "3.6.6"
  }
 },
 "nbformat": 4,
 "nbformat_minor": 2
}
